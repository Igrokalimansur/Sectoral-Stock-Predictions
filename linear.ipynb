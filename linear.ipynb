{
 "cells": [
  {
   "cell_type": "code",
   "id": "initial_id",
   "metadata": {
    "collapsed": true,
    "ExecuteTime": {
     "end_time": "2025-03-08T08:04:50.432338Z",
     "start_time": "2025-03-08T08:04:50.344543Z"
    }
   },
   "source": [
    "import pandas as pd\n",
    "\n",
    "# Load dataset with spread return included\n",
    "df = pd.read_csv(\"data_with_spread.csv\")\n",
    "\n",
    "# Check first few rows\n",
    "print(df.head())"
   ],
   "outputs": [
    {
     "name": "stdout",
     "output_type": "stream",
     "text": [
      "  fiscalDateEnding reportedCurrency_x   totalAssets  totalCurrentAssets  \\\n",
      "0       2018-07-31                USD  8.349000e+09        3.667000e+09   \n",
      "1       2019-01-31                USD  8.952000e+09        3.712000e+09   \n",
      "2       2019-04-30                USD  9.022000e+09        3.812000e+09   \n",
      "3       2019-07-31                USD  8.625000e+09        3.457000e+09   \n",
      "4       2019-10-31                USD  9.452000e+09        3.189000e+09   \n",
      "\n",
      "   cashAndCashEquivalentsAtCarryingValue  cashAndShortTermInvestments  \\\n",
      "0                           2.131000e+09                 2.131000e+09   \n",
      "1                           2.057000e+09                 2.057000e+09   \n",
      "2                           2.155000e+09                 2.155000e+09   \n",
      "3                           1.765000e+09                 1.765000e+09   \n",
      "4                           1.382000e+09                 1.407000e+09   \n",
      "\n",
      "     inventory  currentNetReceivables  totalNonCurrentAssets  \\\n",
      "0  623000000.0            733000000.0           4.682000e+09   \n",
      "1  653000000.0            833000000.0           5.247000e+09   \n",
      "2  657000000.0            819000000.0           5.216000e+09   \n",
      "3  660000000.0            856000000.0           5.174000e+09   \n",
      "4  679000000.0            998000000.0           6.468000e+09   \n",
      "\n",
      "   propertyPlantEquipment  ...  monthly_return  volatility_6m  momentum_3m  \\\n",
      "0             801000000.0  ...        0.004563       8.429868     0.137816   \n",
      "1             829000000.0  ...        0.151575       5.838616     0.079377   \n",
      "2             827000000.0  ...        0.032216       5.444511    -0.104726   \n",
      "3             839000000.0  ...       -0.115796       5.306221     0.004563   \n",
      "4             850000000.0  ...        0.091341       5.551377     0.151575   \n",
      "\n",
      "   momentum_6m  momentum_12m  momentum_rank  portfolio  spread_return_x  \\\n",
      "0     0.063980      0.145587            3.0         P1        -0.048199   \n",
      "1     0.123938     -0.070679            9.0         P1        -0.042810   \n",
      "2     0.220952      0.037935            6.0         P1        -0.130430   \n",
      "3     0.137816     -0.014441           10.0         P1        -0.019694   \n",
      "4     0.079377     -0.251628           11.0         P1         0.011584   \n",
      "\n",
      "   spread_return_y  spread_return  \n",
      "0        -0.048199      -0.048199  \n",
      "1        -0.042810      -0.042810  \n",
      "2        -0.130430      -0.130430  \n",
      "3        -0.019694      -0.019694  \n",
      "4         0.011584       0.011584  \n",
      "\n",
      "[5 rows x 121 columns]\n"
     ]
    }
   ],
   "execution_count": 1
  },
  {
   "metadata": {
    "ExecuteTime": {
     "end_time": "2025-03-08T08:05:02.256336Z",
     "start_time": "2025-03-08T08:05:02.228925Z"
    }
   },
   "cell_type": "code",
   "source": [
    "# Check available columns\n",
    "print(df.columns)\n",
    "\n",
    "# Check unique sectors\n",
    "print(\"Unique Sectors:\", df[\"Sector\"].unique())\n",
    "\n",
    "# Ensure only numerical columns are used for ML\n",
    "df_numeric = df.select_dtypes(include=[\"number\"])\n",
    "\n",
    "print(df_numeric.head())"
   ],
   "id": "b5e04d2a215bf3d7",
   "outputs": [
    {
     "name": "stdout",
     "output_type": "stream",
     "text": [
      "Index(['fiscalDateEnding', 'reportedCurrency_x', 'totalAssets',\n",
      "       'totalCurrentAssets', 'cashAndCashEquivalentsAtCarryingValue',\n",
      "       'cashAndShortTermInvestments', 'inventory', 'currentNetReceivables',\n",
      "       'totalNonCurrentAssets', 'propertyPlantEquipment',\n",
      "       ...\n",
      "       'monthly_return', 'volatility_6m', 'momentum_3m', 'momentum_6m',\n",
      "       'momentum_12m', 'momentum_rank', 'portfolio', 'spread_return_x',\n",
      "       'spread_return_y', 'spread_return'],\n",
      "      dtype='object', length=121)\n",
      "Unique Sectors: ['Health Care' 'Information Technology' 'Financials' 'Consumer Staples'\n",
      " 'Industrials' 'Utilities' 'Materials' 'Real Estate'\n",
      " 'Consumer Discretionary' 'Energy' 'Communication Services']\n",
      "    totalAssets  totalCurrentAssets  cashAndCashEquivalentsAtCarryingValue  \\\n",
      "0  8.349000e+09        3.667000e+09                           2.131000e+09   \n",
      "1  8.952000e+09        3.712000e+09                           2.057000e+09   \n",
      "2  9.022000e+09        3.812000e+09                           2.155000e+09   \n",
      "3  8.625000e+09        3.457000e+09                           1.765000e+09   \n",
      "4  9.452000e+09        3.189000e+09                           1.382000e+09   \n",
      "\n",
      "   cashAndShortTermInvestments    inventory  currentNetReceivables  \\\n",
      "0                 2.131000e+09  623000000.0            733000000.0   \n",
      "1                 2.057000e+09  653000000.0            833000000.0   \n",
      "2                 2.155000e+09  657000000.0            819000000.0   \n",
      "3                 1.765000e+09  660000000.0            856000000.0   \n",
      "4                 1.407000e+09  679000000.0            998000000.0   \n",
      "\n",
      "   totalNonCurrentAssets  propertyPlantEquipment  \\\n",
      "0           4.682000e+09             801000000.0   \n",
      "1           5.247000e+09             829000000.0   \n",
      "2           5.216000e+09             827000000.0   \n",
      "3           5.174000e+09             839000000.0   \n",
      "4           6.468000e+09             850000000.0   \n",
      "\n",
      "   accumulatedDepreciationAmortizationPPE  intangibleAssets  ...  \\\n",
      "0                            2.561050e+09      3.448000e+09  ...   \n",
      "1                            2.561050e+09      3.699000e+09  ...   \n",
      "2                            2.561050e+09      3.650000e+09  ...   \n",
      "3                            2.561050e+09      3.618000e+09  ...   \n",
      "4                            9.250000e+08      4.700000e+09  ...   \n",
      "\n",
      "   assetTurnover  monthly_return  volatility_6m  momentum_3m  momentum_6m  \\\n",
      "0       0.141933        0.004563       8.429868     0.137816     0.063980   \n",
      "1       0.141421        0.151575       5.838616     0.079377     0.123938   \n",
      "2       0.135336        0.032216       5.444511    -0.104726     0.220952   \n",
      "3       0.145623       -0.115796       5.306221     0.004563     0.137816   \n",
      "4       0.140711        0.091341       5.551377     0.151575     0.079377   \n",
      "\n",
      "   momentum_12m  momentum_rank  spread_return_x  spread_return_y  \\\n",
      "0      0.145587            3.0        -0.048199        -0.048199   \n",
      "1     -0.070679            9.0        -0.042810        -0.042810   \n",
      "2      0.037935            6.0        -0.130430        -0.130430   \n",
      "3     -0.014441           10.0        -0.019694        -0.019694   \n",
      "4     -0.251628           11.0         0.011584         0.011584   \n",
      "\n",
      "   spread_return  \n",
      "0      -0.048199  \n",
      "1      -0.042810  \n",
      "2      -0.130430  \n",
      "3      -0.019694  \n",
      "4       0.011584  \n",
      "\n",
      "[5 rows x 112 columns]\n"
     ]
    }
   ],
   "execution_count": 2
  },
  {
   "metadata": {
    "ExecuteTime": {
     "end_time": "2025-03-08T08:05:15.872159Z",
     "start_time": "2025-03-08T08:05:15.838278Z"
    }
   },
   "cell_type": "code",
   "source": [
    "# Define target variable (Y) - Monthly Returns\n",
    "target = \"monthly_return\"\n",
    "y = df[target]\n",
    "\n",
    "# Drop non-relevant columns (e.g., Ticker, Date)\n",
    "X = df_numeric.drop(columns=[target, \"Ticker\"], errors=\"ignore\")\n",
    "\n",
    "# Check dataset shape\n",
    "print(f\"Feature Matrix (X) Shape: {X.shape}\")\n",
    "print(f\"Target Variable (Y) Shape: {y.shape}\")"
   ],
   "id": "d9bec1a11822436a",
   "outputs": [
    {
     "name": "stdout",
     "output_type": "stream",
     "text": [
      "Feature Matrix (X) Shape: (7046, 111)\n",
      "Target Variable (Y) Shape: (7046,)\n"
     ]
    }
   ],
   "execution_count": 3
  },
  {
   "metadata": {
    "ExecuteTime": {
     "end_time": "2025-03-08T08:05:25.333861Z",
     "start_time": "2025-03-08T08:05:25.118359Z"
    }
   },
   "cell_type": "code",
   "source": [
    "from sklearn.model_selection import train_test_split\n",
    "\n",
    "# Create a dictionary to store sector-specific data\n",
    "sector_models = {}\n",
    "\n",
    "# Loop through each sector and train separate models\n",
    "for sector in df[\"Sector\"].unique():\n",
    "    print(f\"📊 Training Model for Sector: {sector}\")\n",
    "\n",
    "    # Filter dataset for the current sector\n",
    "    df_sector = df[df[\"Sector\"] == sector]\n",
    "\n",
    "    # Define X and y\n",
    "    X_sector = df_sector.select_dtypes(include=[\"number\"]).drop(columns=[target, \"Ticker\"], errors=\"ignore\")\n",
    "    y_sector = df_sector[target]\n",
    "\n",
    "    # Train-test split\n",
    "    X_train, X_test, y_train, y_test = train_test_split(X_sector, y_sector, test_size=0.2, random_state=42)\n",
    "\n",
    "    # Store training data for model training\n",
    "    sector_models[sector] = {\n",
    "        \"X_train\": X_train, \"X_test\": X_test,\n",
    "        \"y_train\": y_train, \"y_test\": y_test\n",
    "    }"
   ],
   "id": "16685d32bf3c048e",
   "outputs": [
    {
     "name": "stdout",
     "output_type": "stream",
     "text": [
      "📊 Training Model for Sector: Health Care\n",
      "📊 Training Model for Sector: Information Technology\n",
      "📊 Training Model for Sector: Financials\n",
      "📊 Training Model for Sector: Consumer Staples\n",
      "📊 Training Model for Sector: Industrials\n",
      "📊 Training Model for Sector: Utilities\n",
      "📊 Training Model for Sector: Materials\n",
      "📊 Training Model for Sector: Real Estate\n",
      "📊 Training Model for Sector: Consumer Discretionary\n",
      "📊 Training Model for Sector: Energy\n",
      "📊 Training Model for Sector: Communication Services\n"
     ]
    }
   ],
   "execution_count": 4
  },
  {
   "metadata": {
    "ExecuteTime": {
     "end_time": "2025-03-08T12:47:28.581284Z",
     "start_time": "2025-03-08T12:47:25.101154Z"
    }
   },
   "cell_type": "code",
   "source": [
    "from sklearn.linear_model import LinearRegression\n",
    "from sklearn.metrics import mean_absolute_error, mean_squared_error, r2_score\n",
    "\n",
    "# Store results\n",
    "results = []\n",
    "\n",
    "for sector, data in sector_models.items():\n",
    "    print(f\"📊 Training Linear Regression for Sector: {sector}\")\n",
    "\n",
    "    # Train model\n",
    "    lr = LinearRegression()\n",
    "    lr.fit(data[\"X_train\"], data[\"y_train\"])\n",
    "\n",
    "    # Make predictions (In-Sample)\n",
    "    y_train_pred = lr.predict(data[\"X_train\"])\n",
    "\n",
    "    # Make predictions (Out-of-Sample)\n",
    "    y_test_pred = lr.predict(data[\"X_test\"])\n",
    "\n",
    "    # Evaluate model - In-Sample\n",
    "    mse_train = mean_squared_error(data[\"y_train\"], y_train_pred)\n",
    "    mae_train = mean_absolute_error(data[\"y_train\"], y_train_pred)\n",
    "    r2_train = r2_score(data[\"y_train\"], y_train_pred)\n",
    "\n",
    "    # Evaluate model - Out-of-Sample\n",
    "    mse_test = mean_squared_error(data[\"y_test\"], y_test_pred)\n",
    "    mae_test = mean_absolute_error(data[\"y_test\"], y_test_pred)\n",
    "    r2_test = r2_score(data[\"y_test\"], y_test_pred)\n",
    "\n",
    "    # Store results\n",
    "    results.append([sector, mse_train, mae_train, r2_train, mse_test, mae_test, r2_test])\n",
    "\n",
    "# Convert results to DataFrame\n",
    "results_df = pd.DataFrame(results, columns=[\"Sector\", \"MSE_Train\", \"MAE_Train\", \"R²_Train\", \"MSE_Test\", \"MAE_Test\", \"R²_Test\"])\n",
    "print(results_df)"
   ],
   "id": "ac3bb532f85a41bc",
   "outputs": [
    {
     "name": "stdout",
     "output_type": "stream",
     "text": [
      "📊 Training Linear Regression for Sector: Health Care\n",
      "📊 Training Linear Regression for Sector: Information Technology\n",
      "📊 Training Linear Regression for Sector: Financials\n",
      "📊 Training Linear Regression for Sector: Consumer Staples\n",
      "📊 Training Linear Regression for Sector: Industrials\n",
      "📊 Training Linear Regression for Sector: Utilities\n",
      "📊 Training Linear Regression for Sector: Materials\n",
      "📊 Training Linear Regression for Sector: Real Estate\n",
      "📊 Training Linear Regression for Sector: Consumer Discretionary\n",
      "📊 Training Linear Regression for Sector: Energy\n",
      "📊 Training Linear Regression for Sector: Communication Services\n",
      "                    Sector  MSE_Train  MAE_Train  R²_Train   MSE_Test  \\\n",
      "0              Health Care   0.020964   0.107004  0.327640  18.503915   \n",
      "1   Information Technology   0.034047   0.132153  0.376671   0.046128   \n",
      "2               Financials   0.023173   0.110077  0.366081   0.037486   \n",
      "3         Consumer Staples   0.009064   0.071286  0.562814   0.261582   \n",
      "4              Industrials   0.040323   0.141815  0.543673   0.081623   \n",
      "5                Utilities   0.021266   0.109180  0.223017   0.030242   \n",
      "6                Materials   0.022225   0.112640  0.478555   0.126368   \n",
      "7              Real Estate   0.011184   0.083230  0.614698   0.198956   \n",
      "8   Consumer Discretionary   0.035562   0.140059  0.396075   1.392960   \n",
      "9                   Energy   0.039391   0.140137  0.532727   0.188511   \n",
      "10  Communication Services   0.020149   0.097896  0.544658   0.171821   \n",
      "\n",
      "    MAE_Test     R²_Test  \n",
      "0   0.462852 -571.893267  \n",
      "1   0.153470    0.083508  \n",
      "2   0.135645    0.118752  \n",
      "3   0.193391  -20.403111  \n",
      "4   0.191431   -0.951346  \n",
      "5   0.124571   -1.358016  \n",
      "6   0.211952   -2.417344  \n",
      "7   0.206251   -4.862215  \n",
      "8   0.360944  -20.317981  \n",
      "9   0.298485   -1.334859  \n",
      "10  0.280288   -2.067705  \n"
     ]
    }
   ],
   "execution_count": 60
  },
  {
   "metadata": {
    "ExecuteTime": {
     "end_time": "2025-03-08T12:47:48.985969Z",
     "start_time": "2025-03-08T12:47:48.882763Z"
    }
   },
   "cell_type": "code",
   "source": [
    "# Train on entire dataset (ignoring sector differences)\n",
    "X_train, X_test, y_train, y_test = train_test_split(X, y, test_size=0.2, random_state=42)\n",
    "\n",
    "lr_general = LinearRegression()\n",
    "lr_general.fit(X_train, y_train)\n",
    "\n",
    "# Predictions - In-Sample\n",
    "y_train_pred_general = lr_general.predict(X_train)\n",
    "\n",
    "# Predictions - Out-of-Sample\n",
    "y_test_pred_general = lr_general.predict(X_test)\n",
    "\n",
    "# Evaluate General Model - In-Sample\n",
    "mse_general_train = mean_squared_error(y_train, y_train_pred_general)\n",
    "mae_general_train = mean_absolute_error(y_train, y_train_pred_general)\n",
    "r2_general_train = r2_score(y_train, y_train_pred_general)\n",
    "\n",
    "# Evaluate General Model - Out-of-Sample\n",
    "mse_general_test = mean_squared_error(y_test, y_test_pred_general)\n",
    "mae_general_test = mean_absolute_error(y_test, y_test_pred_general)\n",
    "r2_general_test = r2_score(y_test, y_test_pred_general)\n",
    "\n",
    "print(f\"\\n📊 General Model - Training Set:\")\n",
    "print(f\"MSE: {mse_general_train:.4f}, MAE: {mae_general_train:.4f}, R²: {r2_general_train:.4f}\")\n",
    "\n",
    "print(f\"\\n📊 General Model - Test Set:\")\n",
    "print(f\"MSE: {mse_general_test:.4f}, MAE: {mae_general_test:.4f}, R²: {r2_general_test:.4f}\")\n"
   ],
   "id": "dd5c7007e139567",
   "outputs": [
    {
     "name": "stdout",
     "output_type": "stream",
     "text": [
      "\n",
      "📊 General Model - Training Set:\n",
      "MSE: 0.0446, MAE: 0.1370, R²: 0.1040\n",
      "\n",
      "📊 General Model - Test Set:\n",
      "MSE: 0.0412, MAE: 0.1383, R²: 0.0111\n"
     ]
    }
   ],
   "execution_count": 61
  },
  {
   "metadata": {
    "ExecuteTime": {
     "end_time": "2025-03-08T12:48:04.113008Z",
     "start_time": "2025-03-08T12:48:04.102556Z"
    }
   },
   "cell_type": "code",
   "source": [
    "import pandas as pd\n",
    "\n",
    "# General model results\n",
    "general_results = pd.DataFrame([[\"General Model\", mse_general_train, mae_general_train, r2_general_train,\n",
    "                                 mse_general_test, mae_general_test, r2_general_test]],\n",
    "                               columns=[\"Sector\", \"MSE_Train\", \"MAE_Train\", \"R²_Train\", \"MSE_Test\", \"MAE_Test\", \"R²_Test\"])\n",
    "\n",
    "# Concatenate sector-specific results with general model\n",
    "comparison_df = pd.concat([results_df, general_results], ignore_index=True)\n",
    "\n",
    "# Save as CSV\n",
    "comparison_df.to_csv(\"linear_sector_vs_general_comparison.csv\", index=False)\n",
    "\n",
    "print(\"✅ Linear Regression results saved as 'linear_sector_vs_general_comparison.csv'.\")\n"
   ],
   "id": "dee158b722a64136",
   "outputs": [
    {
     "name": "stdout",
     "output_type": "stream",
     "text": [
      "✅ Linear Regression results saved as 'linear_sector_vs_general_comparison.csv'.\n"
     ]
    }
   ],
   "execution_count": 62
  },
  {
   "metadata": {},
   "cell_type": "markdown",
   "source": [
    "First part of ML Above - Linear model with just base parameters\n",
    "\n",
    "Conclusions are that some of the sector based linear models outperform the general model, but it isn't reliable yet.\n",
    "Additionally, some of the sector based models are really bad and have crazy errors, so, I will need to fix that.\n",
    "\n",
    "I will do some testing to figure out what can be done to improve the R^2 and MAE for some of the sectoral models"
   ],
   "id": "b7a6d65b29939502"
  },
  {
   "metadata": {
    "ExecuteTime": {
     "end_time": "2025-03-08T11:06:25.201134Z",
     "start_time": "2025-03-08T11:06:25.196371Z"
    }
   },
   "cell_type": "code",
   "source": [
    "# Convert R² to numeric to avoid sorting issues\n",
    "comparison_df[\"R²\"] = pd.to_numeric(comparison_df[\"R²\"])\n",
    "\n",
    "# Get the 3 worst sectors based on R² (most negative)\n",
    "worst_r2_sectors = comparison_df.nsmallest(3, \"R²\")\n",
    "\n",
    "print(\"📉 Worst Performing Sectors (R² Lowest to Highest):\")\n",
    "print(worst_r2_sectors)"
   ],
   "id": "16c6c460c044a1c7",
   "outputs": [
    {
     "name": "stdout",
     "output_type": "stream",
     "text": [
      "📉 Worst Performing Sectors (R² Lowest to Highest):\n",
      "                   Sector      MSE     MAE        R²\n",
      "0             Health Care  18.5039  0.4629 -571.8933\n",
      "3        Consumer Staples   0.2616  0.1934  -20.4031\n",
      "8  Consumer Discretionary   1.3930  0.3609  -20.3180\n"
     ]
    }
   ],
   "execution_count": 21
  },
  {
   "metadata": {
    "ExecuteTime": {
     "end_time": "2025-03-08T11:06:34.586835Z",
     "start_time": "2025-03-08T11:06:34.574678Z"
    }
   },
   "cell_type": "code",
   "source": [
    "# Count the number of observations per sector\n",
    "sector_counts = df[\"Sector\"].value_counts()\n",
    "print(\"📊 Number of Data Points Per Sector:\")\n",
    "print(sector_counts)"
   ],
   "id": "ac9350a49d17f65b",
   "outputs": [
    {
     "name": "stdout",
     "output_type": "stream",
     "text": [
      "📊 Number of Data Points Per Sector:\n",
      "Sector\n",
      "Financials                1181\n",
      "Industrials               1135\n",
      "Health Care                912\n",
      "Information Technology     876\n",
      "Consumer Discretionary     600\n",
      "Utilities                  503\n",
      "Real Estate                458\n",
      "Consumer Staples           405\n",
      "Materials                  376\n",
      "Energy                     342\n",
      "Communication Services     258\n",
      "Name: count, dtype: int64\n"
     ]
    }
   ],
   "execution_count": 22
  },
  {
   "metadata": {
    "ExecuteTime": {
     "end_time": "2025-03-08T11:08:27.751283Z",
     "start_time": "2025-03-08T11:08:27.682133Z"
    }
   },
   "cell_type": "code",
   "source": [
    "for sector in worst_r2_sectors[\"Sector\"]:\n",
    "    print(f\"\\n📊 Feature Correlation for {sector}:\\n\")\n",
    "\n",
    "    # Filter data for the current sector\n",
    "    sector_data = df[df[\"Sector\"] == sector]\n",
    "\n",
    "    # Ensure only numeric columns are selected for correlation\n",
    "    sector_numeric = sector_data.select_dtypes(include=[\"number\"])\n",
    "\n",
    "    # Compute correlation matrix\n",
    "    correlation_matrix = sector_numeric.corr()\n",
    "\n",
    "    # Check if \"monthly_return\" exists in correlation matrix\n",
    "    if \"monthly_return\" in correlation_matrix:\n",
    "        # Show top correlated features with `monthly_return`\n",
    "        print(correlation_matrix[\"monthly_return\"].sort_values(ascending=False).head(10))\n",
    "    else:\n",
    "        print(f\"⚠️ 'monthly_return' column not found in correlation matrix for {sector}.\")"
   ],
   "id": "82bd267dafb52838",
   "outputs": [
    {
     "name": "stdout",
     "output_type": "stream",
     "text": [
      "\n",
      "📊 Feature Correlation for Health Care:\n",
      "\n",
      "monthly_return                       1.000000\n",
      "Close                                0.139721\n",
      "Low                                  0.134044\n",
      "High                                 0.109304\n",
      "Open                                 0.099428\n",
      "surprise                             0.095337\n",
      "proceedsFromIssuanceOfCommonStock    0.075736\n",
      "momentum_rank                        0.063583\n",
      "momentum_6m                          0.052286\n",
      "assetTurnover                        0.049684\n",
      "Name: monthly_return, dtype: float64\n",
      "\n",
      "📊 Feature Correlation for Consumer Staples:\n",
      "\n",
      "monthly_return                  1.000000\n",
      "changeInOperatingLiabilities    0.156021\n",
      "Close                           0.135261\n",
      "Low                             0.131765\n",
      "operatingCashFlowMargin         0.124999\n",
      "surprise                        0.107429\n",
      "returnOnAssets                  0.101319\n",
      "comprehensiveIncomeNetOfTax     0.100476\n",
      "High                            0.092556\n",
      "momentum_rank                   0.083948\n",
      "Name: monthly_return, dtype: float64\n",
      "\n",
      "📊 Feature Correlation for Consumer Discretionary:\n",
      "\n",
      "monthly_return                       1.000000\n",
      "comprehensiveIncomeNetOfTax          0.131088\n",
      "returnOnAssets                       0.117327\n",
      "proceedsFromRepurchaseOfEquity       0.114650\n",
      "netIncome                            0.114294\n",
      "incomeBeforeTax                      0.112097\n",
      "netIncomeFromContinuingOperations    0.098393\n",
      "profitLoss                           0.091662\n",
      "operatingCashflow                    0.081372\n",
      "Close                                0.078288\n",
      "Name: monthly_return, dtype: float64\n"
     ]
    }
   ],
   "execution_count": 27
  },
  {
   "metadata": {
    "ExecuteTime": {
     "end_time": "2025-03-08T11:10:56.201548Z",
     "start_time": "2025-03-08T11:10:56.011320Z"
    }
   },
   "cell_type": "code",
   "source": [
    "for sector, data in sector_models.items():\n",
    "    train_r2 = lr.score(data[\"X_train\"], data[\"y_train\"])\n",
    "    test_r2 = lr.score(data[\"X_test\"], data[\"y_test\"])\n",
    "\n",
    "    print(f\"📊 Sector: {sector} → Training R²: {train_r2:.4f}, Testing R²: {test_r2:.4f}\")"
   ],
   "id": "d9f04604bc26f89",
   "outputs": [
    {
     "name": "stdout",
     "output_type": "stream",
     "text": [
      "📊 Sector: Health Care → Training R²: -4082290.4860, Testing R²: -196272696.9845\n",
      "📊 Sector: Information Technology → Training R²: -27660.8296, Testing R²: -298.5996\n",
      "📊 Sector: Financials → Training R²: -620155181.0069, Testing R²: -907313397.7721\n",
      "📊 Sector: Consumer Staples → Training R²: -493407.2034, Testing R²: -78.9968\n",
      "📊 Sector: Industrials → Training R²: -79004875.6581, Testing R²: -341681.1849\n",
      "📊 Sector: Utilities → Training R²: -129737290.3218, Testing R²: -11.0392\n",
      "📊 Sector: Materials → Training R²: -3263995.2436, Testing R²: -27.6758\n",
      "📊 Sector: Real Estate → Training R²: -111977409.8102, Testing R²: -3946756216.4277\n",
      "📊 Sector: Consumer Discretionary → Training R²: -107326684.0786, Testing R²: -8294.1615\n",
      "📊 Sector: Energy → Training R²: -8686161.3475, Testing R²: -42563398.8725\n",
      "📊 Sector: Communication Services → Training R²: 0.5447, Testing R²: -2.0677\n"
     ]
    }
   ],
   "execution_count": 29
  },
  {
   "metadata": {},
   "cell_type": "markdown",
   "source": "Ok, so, the issue may be overfitting, do I will try and use Lasso and then Ridge to try and see improved results. However, I think that the main issue is not linearity, which I will try and fix later",
   "id": "543ee39ee894b116"
  },
  {
   "metadata": {
    "ExecuteTime": {
     "end_time": "2025-03-08T12:48:54.932067Z",
     "start_time": "2025-03-08T12:48:48.882731Z"
    }
   },
   "cell_type": "code",
   "source": [
    "from sklearn.linear_model import LassoCV\n",
    "from sklearn.preprocessing import StandardScaler\n",
    "\n",
    "# Store results\n",
    "lasso_results = []\n",
    "\n",
    "for sector, data in sector_models.items():\n",
    "    print(f\"📊 Training Lasso Regression for Sector: {sector}\")\n",
    "\n",
    "    # Scale the features\n",
    "    scaler = StandardScaler()\n",
    "    X_train_scaled = scaler.fit_transform(data[\"X_train\"])\n",
    "    X_test_scaled = scaler.transform(data[\"X_test\"])\n",
    "\n",
    "    # Train Lasso with Cross-Validation to Find Best Alpha\n",
    "    lasso = LassoCV(alphas=[0.0001, 0.001, 0.01, 0.1, 1, 10], cv=5)\n",
    "    lasso.fit(X_train_scaled, data[\"y_train\"])\n",
    "\n",
    "    # Best alpha value\n",
    "    best_alpha = lasso.alpha_\n",
    "\n",
    "    # Make predictions - In-Sample\n",
    "    y_train_pred_lasso = lasso.predict(X_train_scaled)\n",
    "\n",
    "    # Make predictions - Out-of-Sample\n",
    "    y_test_pred_lasso = lasso.predict(X_test_scaled)\n",
    "\n",
    "    # Evaluate Model - In-Sample\n",
    "    mse_train = mean_squared_error(data[\"y_train\"], y_train_pred_lasso)\n",
    "    mae_train = mean_absolute_error(data[\"y_train\"], y_train_pred_lasso)\n",
    "    r2_train = r2_score(data[\"y_train\"], y_train_pred_lasso)\n",
    "\n",
    "    # Evaluate Model - Out-of-Sample\n",
    "    mse_test = mean_squared_error(data[\"y_test\"], y_test_pred_lasso)\n",
    "    mae_test = mean_absolute_error(data[\"y_test\"], y_test_pred_lasso)\n",
    "    r2_test = r2_score(data[\"y_test\"], y_test_pred_lasso)\n",
    "\n",
    "    # Store results\n",
    "    lasso_results.append([sector, mse_train, mae_train, r2_train, mse_test, mae_test, r2_test, best_alpha])\n",
    "\n",
    "# Convert results to DataFrame\n",
    "lasso_results_df = pd.DataFrame(lasso_results, columns=[\"Sector\", \"MSE_Train\", \"MAE_Train\", \"R²_Train\", \"MSE_Test\", \"MAE_Test\", \"R²_Test\", \"Best Alpha\"])\n",
    "print(lasso_results_df)\n"
   ],
   "id": "5f20a1f8b124b1e4",
   "outputs": [
    {
     "name": "stdout",
     "output_type": "stream",
     "text": [
      "📊 Training Lasso Regression for Sector: Health Care\n"
     ]
    },
    {
     "name": "stderr",
     "output_type": "stream",
     "text": [
      "/Library/Frameworks/Python.framework/Versions/3.11/lib/python3.11/site-packages/sklearn/linear_model/_coordinate_descent.py:614: ConvergenceWarning: Objective did not converge. You might want to increase the number of iterations. Duality gap: 0.003311231270631154, tolerance: 0.0018182508093548668\n",
      "  model = cd_fast.enet_coordinate_descent_gram(\n",
      "/Library/Frameworks/Python.framework/Versions/3.11/lib/python3.11/site-packages/sklearn/linear_model/_coordinate_descent.py:614: ConvergenceWarning: Objective did not converge. You might want to increase the number of iterations. Duality gap: 0.4609199029926927, tolerance: 0.0018182508093548668\n",
      "  model = cd_fast.enet_coordinate_descent_gram(\n",
      "/Library/Frameworks/Python.framework/Versions/3.11/lib/python3.11/site-packages/sklearn/linear_model/_coordinate_descent.py:614: ConvergenceWarning: Objective did not converge. You might want to increase the number of iterations. Duality gap: 0.003957267875460246, tolerance: 0.0018473137454113834\n",
      "  model = cd_fast.enet_coordinate_descent_gram(\n",
      "/Library/Frameworks/Python.framework/Versions/3.11/lib/python3.11/site-packages/sklearn/linear_model/_coordinate_descent.py:614: ConvergenceWarning: Objective did not converge. You might want to increase the number of iterations. Duality gap: 0.2279474027983479, tolerance: 0.0018473137454113834\n",
      "  model = cd_fast.enet_coordinate_descent_gram(\n",
      "/Library/Frameworks/Python.framework/Versions/3.11/lib/python3.11/site-packages/sklearn/linear_model/_coordinate_descent.py:614: ConvergenceWarning: Objective did not converge. You might want to increase the number of iterations. Duality gap: 0.004369700148028954, tolerance: 0.0017002545046716326\n",
      "  model = cd_fast.enet_coordinate_descent_gram(\n",
      "/Library/Frameworks/Python.framework/Versions/3.11/lib/python3.11/site-packages/sklearn/linear_model/_coordinate_descent.py:614: ConvergenceWarning: Objective did not converge. You might want to increase the number of iterations. Duality gap: 0.28102913182056, tolerance: 0.0017002545046716326\n",
      "  model = cd_fast.enet_coordinate_descent_gram(\n",
      "/Library/Frameworks/Python.framework/Versions/3.11/lib/python3.11/site-packages/sklearn/linear_model/_coordinate_descent.py:614: ConvergenceWarning: Objective did not converge. You might want to increase the number of iterations. Duality gap: 0.00883347859743111, tolerance: 0.0018669061201670805\n",
      "  model = cd_fast.enet_coordinate_descent_gram(\n",
      "/Library/Frameworks/Python.framework/Versions/3.11/lib/python3.11/site-packages/sklearn/linear_model/_coordinate_descent.py:614: ConvergenceWarning: Objective did not converge. You might want to increase the number of iterations. Duality gap: 0.9061586386066507, tolerance: 0.0018669061201670805\n",
      "  model = cd_fast.enet_coordinate_descent_gram(\n",
      "/Library/Frameworks/Python.framework/Versions/3.11/lib/python3.11/site-packages/sklearn/linear_model/_coordinate_descent.py:614: ConvergenceWarning: Objective did not converge. You might want to increase the number of iterations. Duality gap: 0.003993015424937241, tolerance: 0.0018525414211501066\n",
      "  model = cd_fast.enet_coordinate_descent_gram(\n",
      "/Library/Frameworks/Python.framework/Versions/3.11/lib/python3.11/site-packages/sklearn/linear_model/_coordinate_descent.py:614: ConvergenceWarning: Objective did not converge. You might want to increase the number of iterations. Duality gap: 0.3260899600403686, tolerance: 0.0018525414211501066\n",
      "  model = cd_fast.enet_coordinate_descent_gram(\n",
      "/Library/Frameworks/Python.framework/Versions/3.11/lib/python3.11/site-packages/sklearn/linear_model/_coordinate_descent.py:628: ConvergenceWarning: Objective did not converge. You might want to increase the number of iterations, check the scale of the features or consider increasing regularisation. Duality gap: 5.905e-03, tolerance: 2.273e-03\n",
      "  model = cd_fast.enet_coordinate_descent(\n",
      "/Library/Frameworks/Python.framework/Versions/3.11/lib/python3.11/site-packages/sklearn/linear_model/_coordinate_descent.py:614: ConvergenceWarning: Objective did not converge. You might want to increase the number of iterations. Duality gap: 0.011496130856215814, tolerance: 0.0030384002681341535\n",
      "  model = cd_fast.enet_coordinate_descent_gram(\n",
      "/Library/Frameworks/Python.framework/Versions/3.11/lib/python3.11/site-packages/sklearn/linear_model/_coordinate_descent.py:614: ConvergenceWarning: Objective did not converge. You might want to increase the number of iterations. Duality gap: 3.500602038636962, tolerance: 0.0030384002681341535\n",
      "  model = cd_fast.enet_coordinate_descent_gram(\n"
     ]
    },
    {
     "name": "stdout",
     "output_type": "stream",
     "text": [
      "📊 Training Lasso Regression for Sector: Information Technology\n"
     ]
    },
    {
     "name": "stderr",
     "output_type": "stream",
     "text": [
      "/Library/Frameworks/Python.framework/Versions/3.11/lib/python3.11/site-packages/sklearn/linear_model/_coordinate_descent.py:614: ConvergenceWarning: Objective did not converge. You might want to increase the number of iterations. Duality gap: 0.0034375751802748766, tolerance: 0.0031263554969185345\n",
      "  model = cd_fast.enet_coordinate_descent_gram(\n",
      "/Library/Frameworks/Python.framework/Versions/3.11/lib/python3.11/site-packages/sklearn/linear_model/_coordinate_descent.py:614: ConvergenceWarning: Objective did not converge. You might want to increase the number of iterations. Duality gap: 3.9243977503981515, tolerance: 0.0031263554969185345\n",
      "  model = cd_fast.enet_coordinate_descent_gram(\n",
      "/Library/Frameworks/Python.framework/Versions/3.11/lib/python3.11/site-packages/sklearn/linear_model/_coordinate_descent.py:614: ConvergenceWarning: Objective did not converge. You might want to increase the number of iterations. Duality gap: 0.0038175853333513032, tolerance: 0.003141994613974738\n",
      "  model = cd_fast.enet_coordinate_descent_gram(\n",
      "/Library/Frameworks/Python.framework/Versions/3.11/lib/python3.11/site-packages/sklearn/linear_model/_coordinate_descent.py:614: ConvergenceWarning: Objective did not converge. You might want to increase the number of iterations. Duality gap: 2.1795571105460745, tolerance: 0.003141994613974738\n",
      "  model = cd_fast.enet_coordinate_descent_gram(\n",
      "/Library/Frameworks/Python.framework/Versions/3.11/lib/python3.11/site-packages/sklearn/linear_model/_coordinate_descent.py:614: ConvergenceWarning: Objective did not converge. You might want to increase the number of iterations. Duality gap: 0.01782509477970251, tolerance: 0.0028591782446734677\n",
      "  model = cd_fast.enet_coordinate_descent_gram(\n",
      "/Library/Frameworks/Python.framework/Versions/3.11/lib/python3.11/site-packages/sklearn/linear_model/_coordinate_descent.py:614: ConvergenceWarning: Objective did not converge. You might want to increase the number of iterations. Duality gap: 2.3855445051875144, tolerance: 0.0028591782446734677\n",
      "  model = cd_fast.enet_coordinate_descent_gram(\n",
      "/Library/Frameworks/Python.framework/Versions/3.11/lib/python3.11/site-packages/sklearn/linear_model/_coordinate_descent.py:614: ConvergenceWarning: Objective did not converge. You might want to increase the number of iterations. Duality gap: 0.007024379720331098, tolerance: 0.0031216795710719875\n",
      "  model = cd_fast.enet_coordinate_descent_gram(\n",
      "/Library/Frameworks/Python.framework/Versions/3.11/lib/python3.11/site-packages/sklearn/linear_model/_coordinate_descent.py:614: ConvergenceWarning: Objective did not converge. You might want to increase the number of iterations. Duality gap: 3.2868006021518097, tolerance: 0.0031216795710719875\n",
      "  model = cd_fast.enet_coordinate_descent_gram(\n",
      "/Library/Frameworks/Python.framework/Versions/3.11/lib/python3.11/site-packages/sklearn/linear_model/_coordinate_descent.py:628: ConvergenceWarning: Objective did not converge. You might want to increase the number of iterations, check the scale of the features or consider increasing regularisation. Duality gap: 8.631e-03, tolerance: 3.823e-03\n",
      "  model = cd_fast.enet_coordinate_descent(\n"
     ]
    },
    {
     "name": "stdout",
     "output_type": "stream",
     "text": [
      "📊 Training Lasso Regression for Sector: Financials\n"
     ]
    },
    {
     "name": "stderr",
     "output_type": "stream",
     "text": [
      "/Library/Frameworks/Python.framework/Versions/3.11/lib/python3.11/site-packages/sklearn/linear_model/_coordinate_descent.py:614: ConvergenceWarning: Objective did not converge. You might want to increase the number of iterations. Duality gap: 0.0536275273048048, tolerance: 0.0025487275732372873\n",
      "  model = cd_fast.enet_coordinate_descent_gram(\n",
      "/Library/Frameworks/Python.framework/Versions/3.11/lib/python3.11/site-packages/sklearn/linear_model/_coordinate_descent.py:614: ConvergenceWarning: Objective did not converge. You might want to increase the number of iterations. Duality gap: 0.14733452546511572, tolerance: 0.0025487275732372873\n",
      "  model = cd_fast.enet_coordinate_descent_gram(\n",
      "/Library/Frameworks/Python.framework/Versions/3.11/lib/python3.11/site-packages/sklearn/linear_model/_coordinate_descent.py:614: ConvergenceWarning: Objective did not converge. You might want to increase the number of iterations. Duality gap: 0.05368934768960543, tolerance: 0.002782954190048655\n",
      "  model = cd_fast.enet_coordinate_descent_gram(\n",
      "/Library/Frameworks/Python.framework/Versions/3.11/lib/python3.11/site-packages/sklearn/linear_model/_coordinate_descent.py:614: ConvergenceWarning: Objective did not converge. You might want to increase the number of iterations. Duality gap: 0.13719479895350872, tolerance: 0.002782954190048655\n",
      "  model = cd_fast.enet_coordinate_descent_gram(\n",
      "/Library/Frameworks/Python.framework/Versions/3.11/lib/python3.11/site-packages/sklearn/linear_model/_coordinate_descent.py:614: ConvergenceWarning: Objective did not converge. You might want to increase the number of iterations. Duality gap: 0.05449139689602234, tolerance: 0.002903559696136992\n",
      "  model = cd_fast.enet_coordinate_descent_gram(\n",
      "/Library/Frameworks/Python.framework/Versions/3.11/lib/python3.11/site-packages/sklearn/linear_model/_coordinate_descent.py:614: ConvergenceWarning: Objective did not converge. You might want to increase the number of iterations. Duality gap: 0.14322786749635696, tolerance: 0.002903559696136992\n",
      "  model = cd_fast.enet_coordinate_descent_gram(\n",
      "/Library/Frameworks/Python.framework/Versions/3.11/lib/python3.11/site-packages/sklearn/linear_model/_coordinate_descent.py:614: ConvergenceWarning: Objective did not converge. You might want to increase the number of iterations. Duality gap: 0.05793579750789135, tolerance: 0.002878366591896537\n",
      "  model = cd_fast.enet_coordinate_descent_gram(\n",
      "/Library/Frameworks/Python.framework/Versions/3.11/lib/python3.11/site-packages/sklearn/linear_model/_coordinate_descent.py:614: ConvergenceWarning: Objective did not converge. You might want to increase the number of iterations. Duality gap: 0.21984242588589709, tolerance: 0.002878366591896537\n",
      "  model = cd_fast.enet_coordinate_descent_gram(\n",
      "/Library/Frameworks/Python.framework/Versions/3.11/lib/python3.11/site-packages/sklearn/linear_model/_coordinate_descent.py:614: ConvergenceWarning: Objective did not converge. You might want to increase the number of iterations. Duality gap: 0.06861762784393122, tolerance: 0.00268662751925163\n",
      "  model = cd_fast.enet_coordinate_descent_gram(\n",
      "/Library/Frameworks/Python.framework/Versions/3.11/lib/python3.11/site-packages/sklearn/linear_model/_coordinate_descent.py:614: ConvergenceWarning: Objective did not converge. You might want to increase the number of iterations. Duality gap: 0.20284867012783714, tolerance: 0.00268662751925163\n",
      "  model = cd_fast.enet_coordinate_descent_gram(\n",
      "/Library/Frameworks/Python.framework/Versions/3.11/lib/python3.11/site-packages/sklearn/linear_model/_coordinate_descent.py:628: ConvergenceWarning: Objective did not converge. You might want to increase the number of iterations, check the scale of the features or consider increasing regularisation. Duality gap: 7.579e-02, tolerance: 3.451e-03\n",
      "  model = cd_fast.enet_coordinate_descent(\n"
     ]
    },
    {
     "name": "stdout",
     "output_type": "stream",
     "text": [
      "📊 Training Lasso Regression for Sector: Consumer Staples\n"
     ]
    },
    {
     "name": "stderr",
     "output_type": "stream",
     "text": [
      "/Library/Frameworks/Python.framework/Versions/3.11/lib/python3.11/site-packages/sklearn/linear_model/_coordinate_descent.py:614: ConvergenceWarning: Objective did not converge. You might want to increase the number of iterations. Duality gap: 0.006706447571744878, tolerance: 0.0005634710824891005\n",
      "  model = cd_fast.enet_coordinate_descent_gram(\n",
      "/Library/Frameworks/Python.framework/Versions/3.11/lib/python3.11/site-packages/sklearn/linear_model/_coordinate_descent.py:614: ConvergenceWarning: Objective did not converge. You might want to increase the number of iterations. Duality gap: 0.18604278505584015, tolerance: 0.0005634710824891005\n",
      "  model = cd_fast.enet_coordinate_descent_gram(\n",
      "/Library/Frameworks/Python.framework/Versions/3.11/lib/python3.11/site-packages/sklearn/linear_model/_coordinate_descent.py:614: ConvergenceWarning: Objective did not converge. You might want to increase the number of iterations. Duality gap: 0.001653281044115662, tolerance: 0.0005525854747021343\n",
      "  model = cd_fast.enet_coordinate_descent_gram(\n",
      "/Library/Frameworks/Python.framework/Versions/3.11/lib/python3.11/site-packages/sklearn/linear_model/_coordinate_descent.py:614: ConvergenceWarning: Objective did not converge. You might want to increase the number of iterations. Duality gap: 0.24742012390238588, tolerance: 0.0005525854747021343\n",
      "  model = cd_fast.enet_coordinate_descent_gram(\n",
      "/Library/Frameworks/Python.framework/Versions/3.11/lib/python3.11/site-packages/sklearn/linear_model/_coordinate_descent.py:614: ConvergenceWarning: Objective did not converge. You might want to increase the number of iterations. Duality gap: 0.48831342705807734, tolerance: 0.0005472806309720235\n",
      "  model = cd_fast.enet_coordinate_descent_gram(\n",
      "/Library/Frameworks/Python.framework/Versions/3.11/lib/python3.11/site-packages/sklearn/linear_model/_coordinate_descent.py:614: ConvergenceWarning: Objective did not converge. You might want to increase the number of iterations. Duality gap: 0.0014393660402243214, tolerance: 0.0005258146672773032\n",
      "  model = cd_fast.enet_coordinate_descent_gram(\n",
      "/Library/Frameworks/Python.framework/Versions/3.11/lib/python3.11/site-packages/sklearn/linear_model/_coordinate_descent.py:614: ConvergenceWarning: Objective did not converge. You might want to increase the number of iterations. Duality gap: 0.3391860266118951, tolerance: 0.0005258146672773032\n",
      "  model = cd_fast.enet_coordinate_descent_gram(\n",
      "/Library/Frameworks/Python.framework/Versions/3.11/lib/python3.11/site-packages/sklearn/linear_model/_coordinate_descent.py:614: ConvergenceWarning: Objective did not converge. You might want to increase the number of iterations. Duality gap: 0.0009536642221577019, tolerance: 0.0004956535871365007\n",
      "  model = cd_fast.enet_coordinate_descent_gram(\n",
      "/Library/Frameworks/Python.framework/Versions/3.11/lib/python3.11/site-packages/sklearn/linear_model/_coordinate_descent.py:614: ConvergenceWarning: Objective did not converge. You might want to increase the number of iterations. Duality gap: 0.2194283746322261, tolerance: 0.0004956535871365007\n",
      "  model = cd_fast.enet_coordinate_descent_gram(\n"
     ]
    },
    {
     "name": "stdout",
     "output_type": "stream",
     "text": [
      "📊 Training Lasso Regression for Sector: Industrials\n"
     ]
    },
    {
     "name": "stderr",
     "output_type": "stream",
     "text": [
      "/Library/Frameworks/Python.framework/Versions/3.11/lib/python3.11/site-packages/sklearn/linear_model/_coordinate_descent.py:614: ConvergenceWarning: Objective did not converge. You might want to increase the number of iterations. Duality gap: 0.9557619208840684, tolerance: 0.007061843454848615\n",
      "  model = cd_fast.enet_coordinate_descent_gram(\n",
      "/Library/Frameworks/Python.framework/Versions/3.11/lib/python3.11/site-packages/sklearn/linear_model/_coordinate_descent.py:614: ConvergenceWarning: Objective did not converge. You might want to increase the number of iterations. Duality gap: 5.214531696799165, tolerance: 0.007061843454848615\n",
      "  model = cd_fast.enet_coordinate_descent_gram(\n",
      "/Library/Frameworks/Python.framework/Versions/3.11/lib/python3.11/site-packages/sklearn/linear_model/_coordinate_descent.py:614: ConvergenceWarning: Objective did not converge. You might want to increase the number of iterations. Duality gap: 1.1356416469399306, tolerance: 0.0072390625282688125\n",
      "  model = cd_fast.enet_coordinate_descent_gram(\n",
      "/Library/Frameworks/Python.framework/Versions/3.11/lib/python3.11/site-packages/sklearn/linear_model/_coordinate_descent.py:614: ConvergenceWarning: Objective did not converge. You might want to increase the number of iterations. Duality gap: 6.016529201173027, tolerance: 0.0072390625282688125\n",
      "  model = cd_fast.enet_coordinate_descent_gram(\n",
      "/Library/Frameworks/Python.framework/Versions/3.11/lib/python3.11/site-packages/sklearn/linear_model/_coordinate_descent.py:614: ConvergenceWarning: Objective did not converge. You might want to increase the number of iterations. Duality gap: 1.2403499926521775, tolerance: 0.007366034003416009\n",
      "  model = cd_fast.enet_coordinate_descent_gram(\n",
      "/Library/Frameworks/Python.framework/Versions/3.11/lib/python3.11/site-packages/sklearn/linear_model/_coordinate_descent.py:614: ConvergenceWarning: Objective did not converge. You might want to increase the number of iterations. Duality gap: 6.302424489140915, tolerance: 0.007366034003416009\n",
      "  model = cd_fast.enet_coordinate_descent_gram(\n",
      "/Library/Frameworks/Python.framework/Versions/3.11/lib/python3.11/site-packages/sklearn/linear_model/_coordinate_descent.py:614: ConvergenceWarning: Objective did not converge. You might want to increase the number of iterations. Duality gap: 0.8572712676644763, tolerance: 0.007327330547660887\n",
      "  model = cd_fast.enet_coordinate_descent_gram(\n",
      "/Library/Frameworks/Python.framework/Versions/3.11/lib/python3.11/site-packages/sklearn/linear_model/_coordinate_descent.py:614: ConvergenceWarning: Objective did not converge. You might want to increase the number of iterations. Duality gap: 6.43131888263059, tolerance: 0.007327330547660887\n",
      "  model = cd_fast.enet_coordinate_descent_gram(\n",
      "/Library/Frameworks/Python.framework/Versions/3.11/lib/python3.11/site-packages/sklearn/linear_model/_coordinate_descent.py:614: ConvergenceWarning: Objective did not converge. You might want to increase the number of iterations. Duality gap: 2.0428074378589365, tolerance: 0.00309265050898415\n",
      "  model = cd_fast.enet_coordinate_descent_gram(\n"
     ]
    },
    {
     "name": "stdout",
     "output_type": "stream",
     "text": [
      "📊 Training Lasso Regression for Sector: Utilities\n"
     ]
    },
    {
     "name": "stderr",
     "output_type": "stream",
     "text": [
      "/Library/Frameworks/Python.framework/Versions/3.11/lib/python3.11/site-packages/sklearn/linear_model/_coordinate_descent.py:614: ConvergenceWarning: Objective did not converge. You might want to increase the number of iterations. Duality gap: 0.01566276065871941, tolerance: 0.0006048061799969461\n",
      "  model = cd_fast.enet_coordinate_descent_gram(\n",
      "/Library/Frameworks/Python.framework/Versions/3.11/lib/python3.11/site-packages/sklearn/linear_model/_coordinate_descent.py:614: ConvergenceWarning: Objective did not converge. You might want to increase the number of iterations. Duality gap: 0.08772362021554425, tolerance: 0.0009593075625849814\n",
      "  model = cd_fast.enet_coordinate_descent_gram(\n",
      "/Library/Frameworks/Python.framework/Versions/3.11/lib/python3.11/site-packages/sklearn/linear_model/_coordinate_descent.py:614: ConvergenceWarning: Objective did not converge. You might want to increase the number of iterations. Duality gap: 0.20445574588002202, tolerance: 0.000951860072102682\n",
      "  model = cd_fast.enet_coordinate_descent_gram(\n",
      "/Library/Frameworks/Python.framework/Versions/3.11/lib/python3.11/site-packages/sklearn/linear_model/_coordinate_descent.py:614: ConvergenceWarning: Objective did not converge. You might want to increase the number of iterations. Duality gap: 0.09995505206120159, tolerance: 0.0009498689410773815\n",
      "  model = cd_fast.enet_coordinate_descent_gram(\n"
     ]
    },
    {
     "name": "stdout",
     "output_type": "stream",
     "text": [
      "📊 Training Lasso Regression for Sector: Materials\n"
     ]
    },
    {
     "name": "stderr",
     "output_type": "stream",
     "text": [
      "/Library/Frameworks/Python.framework/Versions/3.11/lib/python3.11/site-packages/sklearn/linear_model/_coordinate_descent.py:614: ConvergenceWarning: Objective did not converge. You might want to increase the number of iterations. Duality gap: 0.012428769480649748, tolerance: 0.0010444938325240242\n",
      "  model = cd_fast.enet_coordinate_descent_gram(\n",
      "/Library/Frameworks/Python.framework/Versions/3.11/lib/python3.11/site-packages/sklearn/linear_model/_coordinate_descent.py:614: ConvergenceWarning: Objective did not converge. You might want to increase the number of iterations. Duality gap: 0.7956264130744253, tolerance: 0.0010444938325240242\n",
      "  model = cd_fast.enet_coordinate_descent_gram(\n",
      "/Library/Frameworks/Python.framework/Versions/3.11/lib/python3.11/site-packages/sklearn/linear_model/_coordinate_descent.py:614: ConvergenceWarning: Objective did not converge. You might want to increase the number of iterations. Duality gap: 0.012694422468124245, tolerance: 0.001102227938699825\n",
      "  model = cd_fast.enet_coordinate_descent_gram(\n",
      "/Library/Frameworks/Python.framework/Versions/3.11/lib/python3.11/site-packages/sklearn/linear_model/_coordinate_descent.py:614: ConvergenceWarning: Objective did not converge. You might want to increase the number of iterations. Duality gap: 0.26862273258896874, tolerance: 0.001102227938699825\n",
      "  model = cd_fast.enet_coordinate_descent_gram(\n",
      "/Library/Frameworks/Python.framework/Versions/3.11/lib/python3.11/site-packages/sklearn/linear_model/_coordinate_descent.py:614: ConvergenceWarning: Objective did not converge. You might want to increase the number of iterations. Duality gap: 0.027946726803500965, tolerance: 0.0010409822460001063\n",
      "  model = cd_fast.enet_coordinate_descent_gram(\n",
      "/Library/Frameworks/Python.framework/Versions/3.11/lib/python3.11/site-packages/sklearn/linear_model/_coordinate_descent.py:614: ConvergenceWarning: Objective did not converge. You might want to increase the number of iterations. Duality gap: 0.8165215908084402, tolerance: 0.0010409822460001063\n",
      "  model = cd_fast.enet_coordinate_descent_gram(\n",
      "/Library/Frameworks/Python.framework/Versions/3.11/lib/python3.11/site-packages/sklearn/linear_model/_coordinate_descent.py:614: ConvergenceWarning: Objective did not converge. You might want to increase the number of iterations. Duality gap: 0.006026800278689848, tolerance: 0.0010553930231392411\n",
      "  model = cd_fast.enet_coordinate_descent_gram(\n",
      "/Library/Frameworks/Python.framework/Versions/3.11/lib/python3.11/site-packages/sklearn/linear_model/_coordinate_descent.py:614: ConvergenceWarning: Objective did not converge. You might want to increase the number of iterations. Duality gap: 0.4347209378757082, tolerance: 0.0010553930231392411\n",
      "  model = cd_fast.enet_coordinate_descent_gram(\n",
      "/Library/Frameworks/Python.framework/Versions/3.11/lib/python3.11/site-packages/sklearn/linear_model/_coordinate_descent.py:614: ConvergenceWarning: Objective did not converge. You might want to increase the number of iterations. Duality gap: 0.004613051481828556, tolerance: 0.0008674911793853776\n",
      "  model = cd_fast.enet_coordinate_descent_gram(\n",
      "/Library/Frameworks/Python.framework/Versions/3.11/lib/python3.11/site-packages/sklearn/linear_model/_coordinate_descent.py:614: ConvergenceWarning: Objective did not converge. You might want to increase the number of iterations. Duality gap: 0.15205942603463463, tolerance: 0.0008674911793853776\n",
      "  model = cd_fast.enet_coordinate_descent_gram(\n"
     ]
    },
    {
     "name": "stdout",
     "output_type": "stream",
     "text": [
      "📊 Training Lasso Regression for Sector: Real Estate\n"
     ]
    },
    {
     "name": "stderr",
     "output_type": "stream",
     "text": [
      "/Library/Frameworks/Python.framework/Versions/3.11/lib/python3.11/site-packages/sklearn/linear_model/_coordinate_descent.py:614: ConvergenceWarning: Objective did not converge. You might want to increase the number of iterations. Duality gap: 0.009955715589500258, tolerance: 0.0008805307701764112\n",
      "  model = cd_fast.enet_coordinate_descent_gram(\n",
      "/Library/Frameworks/Python.framework/Versions/3.11/lib/python3.11/site-packages/sklearn/linear_model/_coordinate_descent.py:614: ConvergenceWarning: Objective did not converge. You might want to increase the number of iterations. Duality gap: 0.05900617844168288, tolerance: 0.0008805307701764112\n",
      "  model = cd_fast.enet_coordinate_descent_gram(\n",
      "/Library/Frameworks/Python.framework/Versions/3.11/lib/python3.11/site-packages/sklearn/linear_model/_coordinate_descent.py:614: ConvergenceWarning: Objective did not converge. You might want to increase the number of iterations. Duality gap: 0.005223366940461105, tolerance: 0.0008258109979442438\n",
      "  model = cd_fast.enet_coordinate_descent_gram(\n",
      "/Library/Frameworks/Python.framework/Versions/3.11/lib/python3.11/site-packages/sklearn/linear_model/_coordinate_descent.py:614: ConvergenceWarning: Objective did not converge. You might want to increase the number of iterations. Duality gap: 0.12830653426382055, tolerance: 0.0008258109979442438\n",
      "  model = cd_fast.enet_coordinate_descent_gram(\n",
      "/Library/Frameworks/Python.framework/Versions/3.11/lib/python3.11/site-packages/sklearn/linear_model/_coordinate_descent.py:614: ConvergenceWarning: Objective did not converge. You might want to increase the number of iterations. Duality gap: 0.006828996781190533, tolerance: 0.0008714653051025131\n",
      "  model = cd_fast.enet_coordinate_descent_gram(\n",
      "/Library/Frameworks/Python.framework/Versions/3.11/lib/python3.11/site-packages/sklearn/linear_model/_coordinate_descent.py:614: ConvergenceWarning: Objective did not converge. You might want to increase the number of iterations. Duality gap: 0.43087627291035924, tolerance: 0.0008714653051025131\n",
      "  model = cd_fast.enet_coordinate_descent_gram(\n",
      "/Library/Frameworks/Python.framework/Versions/3.11/lib/python3.11/site-packages/sklearn/linear_model/_coordinate_descent.py:614: ConvergenceWarning: Objective did not converge. You might want to increase the number of iterations. Duality gap: 0.010044296236633166, tolerance: 0.0009006604050743935\n",
      "  model = cd_fast.enet_coordinate_descent_gram(\n",
      "/Library/Frameworks/Python.framework/Versions/3.11/lib/python3.11/site-packages/sklearn/linear_model/_coordinate_descent.py:614: ConvergenceWarning: Objective did not converge. You might want to increase the number of iterations. Duality gap: 0.755640316716969, tolerance: 0.0009006604050743935\n",
      "  model = cd_fast.enet_coordinate_descent_gram(\n",
      "/Library/Frameworks/Python.framework/Versions/3.11/lib/python3.11/site-packages/sklearn/linear_model/_coordinate_descent.py:614: ConvergenceWarning: Objective did not converge. You might want to increase the number of iterations. Duality gap: 0.012049779959521167, tolerance: 0.000766743244255763\n",
      "  model = cd_fast.enet_coordinate_descent_gram(\n",
      "/Library/Frameworks/Python.framework/Versions/3.11/lib/python3.11/site-packages/sklearn/linear_model/_coordinate_descent.py:614: ConvergenceWarning: Objective did not converge. You might want to increase the number of iterations. Duality gap: 0.6908088822464946, tolerance: 0.000766743244255763\n",
      "  model = cd_fast.enet_coordinate_descent_gram(\n"
     ]
    },
    {
     "name": "stdout",
     "output_type": "stream",
     "text": [
      "📊 Training Lasso Regression for Sector: Consumer Discretionary\n"
     ]
    },
    {
     "name": "stderr",
     "output_type": "stream",
     "text": [
      "/Library/Frameworks/Python.framework/Versions/3.11/lib/python3.11/site-packages/sklearn/linear_model/_coordinate_descent.py:614: ConvergenceWarning: Objective did not converge. You might want to increase the number of iterations. Duality gap: 0.012465347693371598, tolerance: 0.0024167180519707437\n",
      "  model = cd_fast.enet_coordinate_descent_gram(\n",
      "/Library/Frameworks/Python.framework/Versions/3.11/lib/python3.11/site-packages/sklearn/linear_model/_coordinate_descent.py:614: ConvergenceWarning: Objective did not converge. You might want to increase the number of iterations. Duality gap: 4.646793238906231, tolerance: 0.0024167180519707437\n",
      "  model = cd_fast.enet_coordinate_descent_gram(\n",
      "/Library/Frameworks/Python.framework/Versions/3.11/lib/python3.11/site-packages/sklearn/linear_model/_coordinate_descent.py:614: ConvergenceWarning: Objective did not converge. You might want to increase the number of iterations. Duality gap: 0.006889120846366836, tolerance: 0.002278926149256897\n",
      "  model = cd_fast.enet_coordinate_descent_gram(\n",
      "/Library/Frameworks/Python.framework/Versions/3.11/lib/python3.11/site-packages/sklearn/linear_model/_coordinate_descent.py:614: ConvergenceWarning: Objective did not converge. You might want to increase the number of iterations. Duality gap: 3.933508098293708, tolerance: 0.002278926149256897\n",
      "  model = cd_fast.enet_coordinate_descent_gram(\n",
      "/Library/Frameworks/Python.framework/Versions/3.11/lib/python3.11/site-packages/sklearn/linear_model/_coordinate_descent.py:614: ConvergenceWarning: Objective did not converge. You might want to increase the number of iterations. Duality gap: 0.07054296348924893, tolerance: 0.0022463659997276025\n",
      "  model = cd_fast.enet_coordinate_descent_gram(\n",
      "/Library/Frameworks/Python.framework/Versions/3.11/lib/python3.11/site-packages/sklearn/linear_model/_coordinate_descent.py:614: ConvergenceWarning: Objective did not converge. You might want to increase the number of iterations. Duality gap: 3.0536267952728586, tolerance: 0.0022463659997276025\n",
      "  model = cd_fast.enet_coordinate_descent_gram(\n",
      "/Library/Frameworks/Python.framework/Versions/3.11/lib/python3.11/site-packages/sklearn/linear_model/_coordinate_descent.py:614: ConvergenceWarning: Objective did not converge. You might want to increase the number of iterations. Duality gap: 0.030191316991285078, tolerance: 0.002215700083418655\n",
      "  model = cd_fast.enet_coordinate_descent_gram(\n",
      "/Library/Frameworks/Python.framework/Versions/3.11/lib/python3.11/site-packages/sklearn/linear_model/_coordinate_descent.py:614: ConvergenceWarning: Objective did not converge. You might want to increase the number of iterations. Duality gap: 4.468288565444845, tolerance: 0.002215700083418655\n",
      "  model = cd_fast.enet_coordinate_descent_gram(\n",
      "/Library/Frameworks/Python.framework/Versions/3.11/lib/python3.11/site-packages/sklearn/linear_model/_coordinate_descent.py:614: ConvergenceWarning: Objective did not converge. You might want to increase the number of iterations. Duality gap: 0.01815555719299411, tolerance: 0.002141758611567359\n",
      "  model = cd_fast.enet_coordinate_descent_gram(\n",
      "/Library/Frameworks/Python.framework/Versions/3.11/lib/python3.11/site-packages/sklearn/linear_model/_coordinate_descent.py:614: ConvergenceWarning: Objective did not converge. You might want to increase the number of iterations. Duality gap: 3.468919114221596, tolerance: 0.002141758611567359\n",
      "  model = cd_fast.enet_coordinate_descent_gram(\n"
     ]
    },
    {
     "name": "stdout",
     "output_type": "stream",
     "text": [
      "📊 Training Lasso Regression for Sector: Energy\n"
     ]
    },
    {
     "name": "stderr",
     "output_type": "stream",
     "text": [
      "/Library/Frameworks/Python.framework/Versions/3.11/lib/python3.11/site-packages/sklearn/linear_model/_coordinate_descent.py:614: ConvergenceWarning: Objective did not converge. You might want to increase the number of iterations. Duality gap: 0.008102415223688375, tolerance: 0.001456489017305679\n",
      "  model = cd_fast.enet_coordinate_descent_gram(\n",
      "/Library/Frameworks/Python.framework/Versions/3.11/lib/python3.11/site-packages/sklearn/linear_model/_coordinate_descent.py:614: ConvergenceWarning: Objective did not converge. You might want to increase the number of iterations. Duality gap: 1.851386202838322, tolerance: 0.001456489017305679\n",
      "  model = cd_fast.enet_coordinate_descent_gram(\n",
      "/Library/Frameworks/Python.framework/Versions/3.11/lib/python3.11/site-packages/sklearn/linear_model/_coordinate_descent.py:614: ConvergenceWarning: Objective did not converge. You might want to increase the number of iterations. Duality gap: 0.013852362946943586, tolerance: 0.0019263853678544436\n",
      "  model = cd_fast.enet_coordinate_descent_gram(\n",
      "/Library/Frameworks/Python.framework/Versions/3.11/lib/python3.11/site-packages/sklearn/linear_model/_coordinate_descent.py:614: ConvergenceWarning: Objective did not converge. You might want to increase the number of iterations. Duality gap: 2.656789370055145, tolerance: 0.0019263853678544436\n",
      "  model = cd_fast.enet_coordinate_descent_gram(\n",
      "/Library/Frameworks/Python.framework/Versions/3.11/lib/python3.11/site-packages/sklearn/linear_model/_coordinate_descent.py:614: ConvergenceWarning: Objective did not converge. You might want to increase the number of iterations. Duality gap: 0.02735728634409007, tolerance: 0.0020291602654255374\n",
      "  model = cd_fast.enet_coordinate_descent_gram(\n",
      "/Library/Frameworks/Python.framework/Versions/3.11/lib/python3.11/site-packages/sklearn/linear_model/_coordinate_descent.py:614: ConvergenceWarning: Objective did not converge. You might want to increase the number of iterations. Duality gap: 2.055000347349852, tolerance: 0.0020291602654255374\n",
      "  model = cd_fast.enet_coordinate_descent_gram(\n",
      "/Library/Frameworks/Python.framework/Versions/3.11/lib/python3.11/site-packages/sklearn/linear_model/_coordinate_descent.py:614: ConvergenceWarning: Objective did not converge. You might want to increase the number of iterations. Duality gap: 0.01459355699874898, tolerance: 0.0018867010024530883\n",
      "  model = cd_fast.enet_coordinate_descent_gram(\n",
      "/Library/Frameworks/Python.framework/Versions/3.11/lib/python3.11/site-packages/sklearn/linear_model/_coordinate_descent.py:614: ConvergenceWarning: Objective did not converge. You might want to increase the number of iterations. Duality gap: 3.002341746113416, tolerance: 0.0018867010024530883\n",
      "  model = cd_fast.enet_coordinate_descent_gram(\n",
      "/Library/Frameworks/Python.framework/Versions/3.11/lib/python3.11/site-packages/sklearn/linear_model/_coordinate_descent.py:614: ConvergenceWarning: Objective did not converge. You might want to increase the number of iterations. Duality gap: 0.08256705765242423, tolerance: 0.0019004441783454038\n",
      "  model = cd_fast.enet_coordinate_descent_gram(\n",
      "/Library/Frameworks/Python.framework/Versions/3.11/lib/python3.11/site-packages/sklearn/linear_model/_coordinate_descent.py:614: ConvergenceWarning: Objective did not converge. You might want to increase the number of iterations. Duality gap: 1.2721629131892787, tolerance: 0.0019004441783454038\n",
      "  model = cd_fast.enet_coordinate_descent_gram(\n"
     ]
    },
    {
     "name": "stdout",
     "output_type": "stream",
     "text": [
      "📊 Training Lasso Regression for Sector: Communication Services\n"
     ]
    },
    {
     "name": "stderr",
     "output_type": "stream",
     "text": [
      "/Library/Frameworks/Python.framework/Versions/3.11/lib/python3.11/site-packages/sklearn/linear_model/_coordinate_descent.py:614: ConvergenceWarning: Objective did not converge. You might want to increase the number of iterations. Duality gap: 0.022169300142282466, tolerance: 0.0006802355854369638\n",
      "  model = cd_fast.enet_coordinate_descent_gram(\n",
      "/Library/Frameworks/Python.framework/Versions/3.11/lib/python3.11/site-packages/sklearn/linear_model/_coordinate_descent.py:614: ConvergenceWarning: Objective did not converge. You might want to increase the number of iterations. Duality gap: 0.8544564483581815, tolerance: 0.0006802355854369638\n",
      "  model = cd_fast.enet_coordinate_descent_gram(\n",
      "/Library/Frameworks/Python.framework/Versions/3.11/lib/python3.11/site-packages/sklearn/linear_model/_coordinate_descent.py:614: ConvergenceWarning: Objective did not converge. You might want to increase the number of iterations. Duality gap: 0.046690485718095864, tolerance: 0.000806922825886694\n",
      "  model = cd_fast.enet_coordinate_descent_gram(\n",
      "/Library/Frameworks/Python.framework/Versions/3.11/lib/python3.11/site-packages/sklearn/linear_model/_coordinate_descent.py:614: ConvergenceWarning: Objective did not converge. You might want to increase the number of iterations. Duality gap: 1.3352301977798147, tolerance: 0.000806922825886694\n",
      "  model = cd_fast.enet_coordinate_descent_gram(\n",
      "/Library/Frameworks/Python.framework/Versions/3.11/lib/python3.11/site-packages/sklearn/linear_model/_coordinate_descent.py:614: ConvergenceWarning: Objective did not converge. You might want to increase the number of iterations. Duality gap: 0.03253633921093524, tolerance: 0.0007013451526320198\n",
      "  model = cd_fast.enet_coordinate_descent_gram(\n",
      "/Library/Frameworks/Python.framework/Versions/3.11/lib/python3.11/site-packages/sklearn/linear_model/_coordinate_descent.py:614: ConvergenceWarning: Objective did not converge. You might want to increase the number of iterations. Duality gap: 0.8952456940448239, tolerance: 0.0007013451526320198\n",
      "  model = cd_fast.enet_coordinate_descent_gram(\n",
      "/Library/Frameworks/Python.framework/Versions/3.11/lib/python3.11/site-packages/sklearn/linear_model/_coordinate_descent.py:614: ConvergenceWarning: Objective did not converge. You might want to increase the number of iterations. Duality gap: 1.063221187701457, tolerance: 0.0007205549898928416\n",
      "  model = cd_fast.enet_coordinate_descent_gram(\n",
      "/Library/Frameworks/Python.framework/Versions/3.11/lib/python3.11/site-packages/sklearn/linear_model/_coordinate_descent.py:614: ConvergenceWarning: Objective did not converge. You might want to increase the number of iterations. Duality gap: 0.003721552505787429, tolerance: 0.0007296323497188018\n",
      "  model = cd_fast.enet_coordinate_descent_gram(\n",
      "/Library/Frameworks/Python.framework/Versions/3.11/lib/python3.11/site-packages/sklearn/linear_model/_coordinate_descent.py:614: ConvergenceWarning: Objective did not converge. You might want to increase the number of iterations. Duality gap: 1.2988953575325197, tolerance: 0.0007296323497188018\n",
      "  model = cd_fast.enet_coordinate_descent_gram(\n"
     ]
    },
    {
     "name": "stdout",
     "output_type": "stream",
     "text": [
      "                    Sector  MSE_Train  MAE_Train  R²_Train  MSE_Test  \\\n",
      "0              Health Care   0.022520   0.110687  0.277721  8.231302   \n",
      "1   Information Technology   0.036356   0.136044  0.334394  0.046237   \n",
      "2               Financials   0.024451   0.112451  0.331126  0.035862   \n",
      "3         Consumer Staples   0.017186   0.097986  0.171008  0.012337   \n",
      "4              Industrials   0.088364   0.151334  0.000000  0.042282   \n",
      "5                Utilities   0.027370   0.100150  0.000000  0.013855   \n",
      "6                Materials   0.042622   0.156203  0.000000  0.038051   \n",
      "7              Real Estate   0.029025   0.126637  0.000000  0.034480   \n",
      "8   Consumer Discretionary   0.049365   0.161245  0.161657  0.880659   \n",
      "9                   Energy   0.068019   0.178424  0.193128  0.083556   \n",
      "10  Communication Services   0.044250   0.155816  0.000000  0.056706   \n",
      "\n",
      "    MAE_Test     R²_Test  Best Alpha  \n",
      "0   0.342279 -253.846465       0.001  \n",
      "1   0.149119    0.081341       0.001  \n",
      "2   0.131722    0.156931       0.001  \n",
      "3   0.088547   -0.009410       0.010  \n",
      "4   0.145759   -0.010823      10.000  \n",
      "5   0.087539   -0.080267      10.000  \n",
      "6   0.151391   -0.029009      10.000  \n",
      "7   0.130853   -0.015954      10.000  \n",
      "8   0.264638  -12.477685       0.010  \n",
      "9   0.206180   -0.034909       0.010  \n",
      "10  0.165335   -0.012437      10.000  \n"
     ]
    }
   ],
   "execution_count": 63
  },
  {
   "metadata": {
    "ExecuteTime": {
     "end_time": "2025-03-08T12:51:26.599303Z",
     "start_time": "2025-03-08T12:51:25.620Z"
    }
   },
   "cell_type": "code",
   "source": [
    "# Standardize Data\n",
    "scaler = StandardScaler()\n",
    "X_train_scaled = scaler.fit_transform(X_train)\n",
    "X_test_scaled = scaler.transform(X_test)\n",
    "\n",
    "# Train Lasso with Cross-Validation\n",
    "lasso_general = LassoCV(alphas=[0.0001, 0.001, 0.01, 0.1, 1, 10], cv=5)\n",
    "lasso_general.fit(X_train_scaled, y_train)\n",
    "\n",
    "# Get best alpha\n",
    "best_alpha_general = lasso_general.alpha_\n",
    "\n",
    "# Make Predictions - In-Sample\n",
    "y_train_pred_lasso_general = lasso_general.predict(X_train_scaled)\n",
    "\n",
    "# Make Predictions - Out-of-Sample\n",
    "y_test_pred_lasso_general = lasso_general.predict(X_test_scaled)\n",
    "\n",
    "# Evaluate General Lasso Model - In-Sample\n",
    "mse_lasso_general_train = mean_squared_error(y_train, y_train_pred_lasso_general)\n",
    "mae_lasso_general_train = mean_absolute_error(y_train, y_train_pred_lasso_general)\n",
    "r2_lasso_general_train = r2_score(y_train, y_train_pred_lasso_general)\n",
    "\n",
    "# Evaluate General Lasso Model - Out-of-Sample\n",
    "mse_lasso_general_test = mean_squared_error(y_test, y_test_pred_lasso_general)\n",
    "mae_lasso_general_test = mean_absolute_error(y_test, y_test_pred_lasso_general)\n",
    "r2_lasso_general_test = r2_score(y_test, y_test_pred_lasso_general)\n",
    "\n",
    "# Store General Model Results in a List\n",
    "general_lasso_results = [\n",
    "    [\"General Model\", mse_lasso_general_train, mae_lasso_general_train, r2_lasso_general_train,\n",
    "     mse_lasso_general_test, mae_lasso_general_test, r2_lasso_general_test, best_alpha_general]\n",
    "]\n",
    "\n",
    "# Convert to DataFrame\n",
    "general_lasso_results_df = pd.DataFrame(general_lasso_results,\n",
    "                                        columns=[\"Sector\", \"MSE_Train\", \"MAE_Train\", \"R²_Train\",\n",
    "                                                 \"MSE_Test\", \"MAE_Test\", \"R²_Test\", \"Best Alpha\"])\n",
    "\n",
    "# Display Results\n",
    "print(\"\\n📊 General Lasso Regression Results:\")\n",
    "print(general_lasso_results_df)\n",
    "\n",
    "# Save to CSV\n",
    "general_lasso_results_df.to_csv(\"general_lasso_results.csv\", index=False)\n",
    "print(\"✅ General Lasso results saved as 'general_lasso_results.csv'.\")\n"
   ],
   "id": "302bdaa47519e036",
   "outputs": [
    {
     "name": "stderr",
     "output_type": "stream",
     "text": [
      "/Library/Frameworks/Python.framework/Versions/3.11/lib/python3.11/site-packages/sklearn/linear_model/_coordinate_descent.py:614: ConvergenceWarning: Objective did not converge. You might want to increase the number of iterations. Duality gap: 0.38138771938128, tolerance: 0.02352890040929923\n",
      "  model = cd_fast.enet_coordinate_descent_gram(\n",
      "/Library/Frameworks/Python.framework/Versions/3.11/lib/python3.11/site-packages/sklearn/linear_model/_coordinate_descent.py:614: ConvergenceWarning: Objective did not converge. You might want to increase the number of iterations. Duality gap: 0.7915206741297425, tolerance: 0.02297792819752955\n",
      "  model = cd_fast.enet_coordinate_descent_gram(\n",
      "/Library/Frameworks/Python.framework/Versions/3.11/lib/python3.11/site-packages/sklearn/linear_model/_coordinate_descent.py:614: ConvergenceWarning: Objective did not converge. You might want to increase the number of iterations. Duality gap: 1.1572656614746961, tolerance: 0.02318419311255077\n",
      "  model = cd_fast.enet_coordinate_descent_gram(\n"
     ]
    },
    {
     "name": "stdout",
     "output_type": "stream",
     "text": [
      "\n",
      "📊 General Lasso Regression Results:\n",
      "          Sector  MSE_Train  MAE_Train  R²_Train  MSE_Test  MAE_Test  R²_Test  \\\n",
      "0  General Model   0.045451   0.138054  0.087158  0.038804  0.138251  0.06834   \n",
      "\n",
      "   Best Alpha  \n",
      "0       0.001  \n",
      "✅ General Lasso results saved as 'general_lasso_results.csv'.\n"
     ]
    }
   ],
   "execution_count": 67
  },
  {
   "metadata": {
    "ExecuteTime": {
     "end_time": "2025-03-08T12:52:06.889330Z",
     "start_time": "2025-03-08T12:52:06.874064Z"
    }
   },
   "cell_type": "code",
   "source": [
    "import pandas as pd\n",
    "\n",
    "# Convert `general_lasso_results` to a DataFrame (if not already)\n",
    "if not isinstance(general_lasso_results, pd.DataFrame):\n",
    "    general_lasso_results_df = pd.DataFrame(general_lasso_results,\n",
    "                                            columns=[\"Sector\", \"MSE_Train\", \"MAE_Train\", \"R²_Train\",\n",
    "                                                     \"MSE_Test\", \"MAE_Test\", \"R²_Test\", \"Best Alpha\"])\n",
    "else:\n",
    "    general_lasso_results_df = general_lasso_results\n",
    "\n",
    "# Ensure both DataFrames exist\n",
    "if \"lasso_results_df\" not in globals():\n",
    "    raise ValueError(\"🚨 `lasso_results_df` is missing. Make sure the sector-specific Lasso results are stored correctly.\")\n",
    "\n",
    "# Merge sector-specific Lasso results with general model\n",
    "lasso_comparison_df = pd.concat([lasso_results_df, general_lasso_results_df], ignore_index=True)\n",
    "\n",
    "# Format numbers for better readability\n",
    "for col in [\"MSE_Train\", \"MAE_Train\", \"R²_Train\", \"MSE_Test\", \"MAE_Test\", \"R²_Test\", \"Best Alpha\"]:\n",
    "    lasso_comparison_df[col] = lasso_comparison_df[col].apply(lambda x: f\"{x:.6f}\")\n",
    "\n",
    "# Save as CSV\n",
    "lasso_comparison_df.to_csv(\"lasso_sector_vs_general.csv\", index=False)\n",
    "\n",
    "# Display results\n",
    "print(\"\\n✅ 📂 Lasso Regression results saved successfully!\")\n",
    "print(lasso_comparison_df)\n"
   ],
   "id": "515b0616bc5dc1f6",
   "outputs": [
    {
     "name": "stdout",
     "output_type": "stream",
     "text": [
      "\n",
      "✅ 📂 Lasso Regression results saved successfully!\n",
      "                    Sector MSE_Train MAE_Train  R²_Train  MSE_Test  MAE_Test  \\\n",
      "0              Health Care  0.022520  0.110687  0.277721  8.231302  0.342279   \n",
      "1   Information Technology  0.036356  0.136044  0.334394  0.046237  0.149119   \n",
      "2               Financials  0.024451  0.112451  0.331126  0.035862  0.131722   \n",
      "3         Consumer Staples  0.017186  0.097986  0.171008  0.012337  0.088547   \n",
      "4              Industrials  0.088364  0.151334  0.000000  0.042282  0.145759   \n",
      "5                Utilities  0.027370  0.100150  0.000000  0.013855  0.087539   \n",
      "6                Materials  0.042622  0.156203  0.000000  0.038051  0.151391   \n",
      "7              Real Estate  0.029025  0.126637  0.000000  0.034480  0.130853   \n",
      "8   Consumer Discretionary  0.049365  0.161245  0.161657  0.880659  0.264638   \n",
      "9                   Energy  0.068019  0.178424  0.193128  0.083556  0.206180   \n",
      "10  Communication Services  0.044250  0.155816  0.000000  0.056706  0.165335   \n",
      "11           General Model  0.045451  0.138054  0.087158  0.038804  0.138251   \n",
      "\n",
      "        R²_Test Best Alpha  \n",
      "0   -253.846465   0.001000  \n",
      "1      0.081341   0.001000  \n",
      "2      0.156931   0.001000  \n",
      "3     -0.009410   0.010000  \n",
      "4     -0.010823  10.000000  \n",
      "5     -0.080267  10.000000  \n",
      "6     -0.029009  10.000000  \n",
      "7     -0.015954  10.000000  \n",
      "8    -12.477685   0.010000  \n",
      "9     -0.034909   0.010000  \n",
      "10    -0.012437  10.000000  \n",
      "11     0.068340   0.001000  \n"
     ]
    }
   ],
   "execution_count": 69
  },
  {
   "metadata": {},
   "cell_type": "markdown",
   "source": [
    "Now, lets compare Lasso vs the base linear model\n",
    "\n",
    "We will analyze the differences in performance here"
   ],
   "id": "c156f87e01ec41c7"
  },
  {
   "metadata": {
    "ExecuteTime": {
     "end_time": "2025-03-08T12:53:12.949863Z",
     "start_time": "2025-03-08T12:53:12.929238Z"
    }
   },
   "cell_type": "code",
   "source": [
    "import pandas as pd\n",
    "\n",
    "# Ensure sector-specific Lasso and Linear results exist\n",
    "if \"results_df\" not in globals():\n",
    "    raise ValueError(\"🚨 `results_df` (Linear Regression results) is missing.\")\n",
    "if \"lasso_results_df\" not in globals():\n",
    "    raise ValueError(\"🚨 `lasso_results_df` (Lasso Regression results) is missing.\")\n",
    "\n",
    "# 🛠️ Merge sector-specific Linear & Lasso results\n",
    "comparison_df = results_df.merge(lasso_results_df, on=\"Sector\", suffixes=(\"_Linear\", \"_Lasso\"))\n",
    "\n",
    "# Convert general model results to DataFrame if stored as lists\n",
    "if not isinstance(general_results, pd.DataFrame):\n",
    "    general_results_df = pd.DataFrame(general_results,\n",
    "                                      columns=[\"Sector\", \"MSE_Train\", \"MAE_Train\", \"R²_Train\",\n",
    "                                               \"MSE_Test\", \"MAE_Test\", \"R²_Test\"])\n",
    "else:\n",
    "    general_results_df = general_results\n",
    "\n",
    "if not isinstance(general_lasso_results, pd.DataFrame):\n",
    "    general_lasso_results_df = pd.DataFrame(general_lasso_results,\n",
    "                                            columns=[\"Sector\", \"MSE_Train\", \"MAE_Train\", \"R²_Train\",\n",
    "                                                     \"MSE_Test\", \"MAE_Test\", \"R²_Test\", \"Best Alpha\"])\n",
    "else:\n",
    "    general_lasso_results_df = general_lasso_results\n",
    "\n",
    "# Add a column to identify general model results\n",
    "general_results_df[\"Sector\"] = \"General Model\"\n",
    "general_lasso_results_df[\"Sector\"] = \"General Model\"\n",
    "\n",
    "# Merge general model results\n",
    "general_comparison_df = general_results_df.merge(general_lasso_results_df, on=\"Sector\", suffixes=(\"_Linear\", \"_Lasso\"))\n",
    "\n",
    "# Append general model results to sector comparison\n",
    "comparison_df = pd.concat([comparison_df, general_comparison_df], ignore_index=True)\n",
    "\n",
    "# Format numbers for better readability\n",
    "for col in [\"MSE_Train_Linear\", \"MSE_Test_Linear\", \"MAE_Train_Linear\", \"MAE_Test_Linear\", \"R²_Train_Linear\", \"R²_Test_Linear\",\n",
    "            \"MSE_Train_Lasso\", \"MSE_Test_Lasso\", \"MAE_Train_Lasso\", \"MAE_Test_Lasso\", \"R²_Train_Lasso\", \"R²_Test_Lasso\", \"Best Alpha\"]:\n",
    "    comparison_df[col] = comparison_df[col].apply(lambda x: f\"{x:.6f}\")\n",
    "\n",
    "# Save comparison results to CSV\n",
    "comparison_df.to_csv(\"lasso_vs_linear_comparison.csv\", index=False)\n",
    "\n",
    "# Display formatted table\n",
    "print(\"\\n✅ 📂 Lasso vs. Linear Regression results saved successfully!\")\n",
    "print(comparison_df)\n"
   ],
   "id": "102de524acaa41ff",
   "outputs": [
    {
     "name": "stdout",
     "output_type": "stream",
     "text": [
      "\n",
      "✅ 📂 Lasso vs. Linear Regression results saved successfully!\n",
      "                    Sector MSE_Train_Linear MAE_Train_Linear R²_Train_Linear  \\\n",
      "0              Health Care         0.020964         0.107004        0.327640   \n",
      "1   Information Technology         0.034047         0.132153        0.376671   \n",
      "2               Financials         0.023173         0.110077        0.366081   \n",
      "3         Consumer Staples         0.009064         0.071286        0.562814   \n",
      "4              Industrials         0.040323         0.141815        0.543673   \n",
      "5                Utilities         0.021266         0.109180        0.223017   \n",
      "6                Materials         0.022225         0.112640        0.478555   \n",
      "7              Real Estate         0.011184         0.083230        0.614698   \n",
      "8   Consumer Discretionary         0.035562         0.140059        0.396075   \n",
      "9                   Energy         0.039391         0.140137        0.532727   \n",
      "10  Communication Services         0.020149         0.097896        0.544658   \n",
      "11           General Model         0.044611         0.136975        0.104038   \n",
      "\n",
      "   MSE_Test_Linear MAE_Test_Linear R²_Test_Linear MSE_Train_Lasso  \\\n",
      "0        18.503915        0.462852    -571.893267        0.022520   \n",
      "1         0.046128        0.153470       0.083508        0.036356   \n",
      "2         0.037486        0.135645       0.118752        0.024451   \n",
      "3         0.261582        0.193391     -20.403111        0.017186   \n",
      "4         0.081623        0.191431      -0.951346        0.088364   \n",
      "5         0.030242        0.124571      -1.358016        0.027370   \n",
      "6         0.126368        0.211952      -2.417344        0.042622   \n",
      "7         0.198956        0.206251      -4.862215        0.029025   \n",
      "8         1.392960        0.360944     -20.317981        0.049365   \n",
      "9         0.188511        0.298485      -1.334859        0.068019   \n",
      "10        0.171821        0.280288      -2.067705        0.044250   \n",
      "11        0.041186        0.138270       0.011149        0.045451   \n",
      "\n",
      "   MAE_Train_Lasso R²_Train_Lasso MSE_Test_Lasso MAE_Test_Lasso R²_Test_Lasso  \\\n",
      "0         0.110687       0.277721       8.231302       0.342279   -253.846465   \n",
      "1         0.136044       0.334394       0.046237       0.149119      0.081341   \n",
      "2         0.112451       0.331126       0.035862       0.131722      0.156931   \n",
      "3         0.097986       0.171008       0.012337       0.088547     -0.009410   \n",
      "4         0.151334       0.000000       0.042282       0.145759     -0.010823   \n",
      "5         0.100150       0.000000       0.013855       0.087539     -0.080267   \n",
      "6         0.156203       0.000000       0.038051       0.151391     -0.029009   \n",
      "7         0.126637       0.000000       0.034480       0.130853     -0.015954   \n",
      "8         0.161245       0.161657       0.880659       0.264638    -12.477685   \n",
      "9         0.178424       0.193128       0.083556       0.206180     -0.034909   \n",
      "10        0.155816       0.000000       0.056706       0.165335     -0.012437   \n",
      "11        0.138054       0.087158       0.038804       0.138251      0.068340   \n",
      "\n",
      "   Best Alpha  \n",
      "0    0.001000  \n",
      "1    0.001000  \n",
      "2    0.001000  \n",
      "3    0.010000  \n",
      "4   10.000000  \n",
      "5   10.000000  \n",
      "6   10.000000  \n",
      "7   10.000000  \n",
      "8    0.010000  \n",
      "9    0.010000  \n",
      "10  10.000000  \n",
      "11   0.001000  \n"
     ]
    }
   ],
   "execution_count": 71
  },
  {
   "metadata": {
    "ExecuteTime": {
     "end_time": "2025-03-08T12:53:56.701218Z",
     "start_time": "2025-03-08T12:53:56.673066Z"
    }
   },
   "cell_type": "code",
   "source": [
    "import pandas as pd\n",
    "\n",
    "# Ensure R² values are numeric\n",
    "comparison_df[\"R²_Train_Linear\"] = pd.to_numeric(comparison_df[\"R²_Train_Linear\"], errors=\"coerce\")\n",
    "comparison_df[\"R²_Test_Linear\"] = pd.to_numeric(comparison_df[\"R²_Test_Linear\"], errors=\"coerce\")\n",
    "comparison_df[\"R²_Train_Lasso\"] = pd.to_numeric(comparison_df[\"R²_Train_Lasso\"], errors=\"coerce\")\n",
    "comparison_df[\"R²_Test_Lasso\"] = pd.to_numeric(comparison_df[\"R²_Test_Lasso\"], errors=\"coerce\")\n",
    "\n",
    "# Compute the difference in R² (Lasso - Linear) for both in-sample & out-of-sample\n",
    "comparison_df[\"R²_Train Difference\"] = comparison_df[\"R²_Train_Lasso\"] - comparison_df[\"R²_Train_Linear\"]\n",
    "comparison_df[\"R²_Test Difference\"] = comparison_df[\"R²_Test_Lasso\"] - comparison_df[\"R²_Test_Linear\"]\n",
    "\n",
    "# Format numbers for better readability\n",
    "for col in [\"R²_Train_Linear\", \"R²_Test_Linear\", \"R²_Train_Lasso\", \"R²_Test_Lasso\",\n",
    "            \"R²_Train Difference\", \"R²_Test Difference\"]:\n",
    "    comparison_df[col] = comparison_df[col].apply(lambda x: f\"{x:.6f}\")\n",
    "\n",
    "# Save the table to CSV\n",
    "comparison_df.to_csv(\"r2_difference_comparison.csv\", index=False)\n",
    "\n",
    "# Display the table\n",
    "print(\"\\n✅ 📂 R² Differences (Lasso vs. Linear) saved successfully!\")\n",
    "print(comparison_df[[\"Sector\", \"R²_Train_Linear\", \"R²_Test_Linear\",\n",
    "                     \"R²_Train_Lasso\", \"R²_Test_Lasso\",\n",
    "                     \"R²_Train Difference\", \"R²_Test Difference\"]])\n"
   ],
   "id": "c592e27bc152a4cb",
   "outputs": [
    {
     "name": "stdout",
     "output_type": "stream",
     "text": [
      "\n",
      "✅ 📂 R² Differences (Lasso vs. Linear) saved successfully!\n",
      "                    Sector R²_Train_Linear R²_Test_Linear R²_Train_Lasso  \\\n",
      "0              Health Care        0.327640    -571.893267       0.277721   \n",
      "1   Information Technology        0.376671       0.083508       0.334394   \n",
      "2               Financials        0.366081       0.118752       0.331126   \n",
      "3         Consumer Staples        0.562814     -20.403111       0.171008   \n",
      "4              Industrials        0.543673      -0.951346       0.000000   \n",
      "5                Utilities        0.223017      -1.358016       0.000000   \n",
      "6                Materials        0.478555      -2.417344       0.000000   \n",
      "7              Real Estate        0.614698      -4.862215       0.000000   \n",
      "8   Consumer Discretionary        0.396075     -20.317981       0.161657   \n",
      "9                   Energy        0.532727      -1.334859       0.193128   \n",
      "10  Communication Services        0.544658      -2.067705       0.000000   \n",
      "11           General Model        0.104038       0.011149       0.087158   \n",
      "\n",
      "   R²_Test_Lasso R²_Train Difference R²_Test Difference  \n",
      "0    -253.846465           -0.049919         318.046802  \n",
      "1       0.081341           -0.042277          -0.002167  \n",
      "2       0.156931           -0.034955           0.038179  \n",
      "3      -0.009410           -0.391806          20.393701  \n",
      "4      -0.010823           -0.543673           0.940523  \n",
      "5      -0.080267           -0.223017           1.277749  \n",
      "6      -0.029009           -0.478555           2.388335  \n",
      "7      -0.015954           -0.614698           4.846261  \n",
      "8     -12.477685           -0.234418           7.840296  \n",
      "9      -0.034909           -0.339599           1.299950  \n",
      "10     -0.012437           -0.544658           2.055268  \n",
      "11      0.068340           -0.016880           0.057191  \n"
     ]
    }
   ],
   "execution_count": 73
  },
  {
   "metadata": {},
   "cell_type": "markdown",
   "source": [
    "Now, I am going to do the Ridge Regression Model to see if it improves performance\n",
    "\n"
   ],
   "id": "8a09d9ea0a6145e9"
  },
  {
   "metadata": {
    "ExecuteTime": {
     "end_time": "2025-03-08T12:54:50.956273Z",
     "start_time": "2025-03-08T12:54:43.451763Z"
    }
   },
   "cell_type": "code",
   "source": [
    "from sklearn.linear_model import RidgeCV\n",
    "from sklearn.metrics import mean_absolute_error, mean_squared_error, r2_score\n",
    "from sklearn.preprocessing import StandardScaler\n",
    "\n",
    "# Store results\n",
    "ridge_results = []\n",
    "\n",
    "# Define range of alpha values for cross-validation\n",
    "alphas = [0.0001, 0.001, 0.01, 0.1, 1, 10, 100]\n",
    "\n",
    "# Loop through each sector and train Ridge Regression\n",
    "for sector, data in sector_models.items():\n",
    "    print(f\"📊 Training Ridge Regression for Sector: {sector}\")\n",
    "\n",
    "    # Scale the features\n",
    "    scaler = StandardScaler()\n",
    "    X_train_scaled = scaler.fit_transform(data[\"X_train\"])\n",
    "    X_test_scaled = scaler.transform(data[\"X_test\"])\n",
    "\n",
    "    # Train Ridge with Cross-Validation to Find Best Alpha\n",
    "    ridge = RidgeCV(alphas=alphas, store_cv_values=True)\n",
    "    ridge.fit(X_train_scaled, data[\"y_train\"])\n",
    "\n",
    "    # Best alpha value\n",
    "    best_alpha = ridge.alpha_\n",
    "    print(f\"✅ Best Alpha for {sector}: {best_alpha}\")\n",
    "\n",
    "    # Make predictions - In-Sample\n",
    "    y_train_pred_ridge = ridge.predict(X_train_scaled)\n",
    "\n",
    "    # Make predictions - Out-of-Sample\n",
    "    y_test_pred_ridge = ridge.predict(X_test_scaled)\n",
    "\n",
    "    # Evaluate Model - In-Sample\n",
    "    mse_train = mean_squared_error(data[\"y_train\"], y_train_pred_ridge)\n",
    "    mae_train = mean_absolute_error(data[\"y_train\"], y_train_pred_ridge)\n",
    "    r2_train = r2_score(data[\"y_train\"], y_train_pred_ridge)\n",
    "\n",
    "    # Evaluate Model - Out-of-Sample\n",
    "    mse_test = mean_squared_error(data[\"y_test\"], y_test_pred_ridge)\n",
    "    mae_test = mean_absolute_error(data[\"y_test\"], y_test_pred_ridge)\n",
    "    r2_test = r2_score(data[\"y_test\"], y_test_pred_ridge)\n",
    "\n",
    "    # Store results\n",
    "    ridge_results.append([sector, mse_train, mae_train, r2_train, mse_test, mae_test, r2_test, best_alpha])\n",
    "\n",
    "# Convert results to DataFrame\n",
    "ridge_results_df = pd.DataFrame(ridge_results, columns=[\"Sector\", \"MSE_Train\", \"MAE_Train\", \"R²_Train\",\n",
    "                                                         \"MSE_Test\", \"MAE_Test\", \"R²_Test\", \"Best Alpha\"])\n",
    "print(ridge_results_df)\n"
   ],
   "id": "72905fdf2501635a",
   "outputs": [
    {
     "name": "stdout",
     "output_type": "stream",
     "text": [
      "📊 Training Ridge Regression for Sector: Health Care\n",
      "✅ Best Alpha for Health Care: 1.0\n",
      "📊 Training Ridge Regression for Sector: Information Technology\n",
      "✅ Best Alpha for Information Technology: 100.0\n",
      "📊 Training Ridge Regression for Sector: Financials\n",
      "✅ Best Alpha for Financials: 1.0\n",
      "📊 Training Ridge Regression for Sector: Consumer Staples\n",
      "✅ Best Alpha for Consumer Staples: 100.0\n",
      "📊 Training Ridge Regression for Sector: Industrials\n",
      "✅ Best Alpha for Industrials: 100.0\n",
      "📊 Training Ridge Regression for Sector: Utilities\n",
      "✅ Best Alpha for Utilities: 10.0\n",
      "📊 Training Ridge Regression for Sector: Materials\n",
      "✅ Best Alpha for Materials: 100.0\n",
      "📊 Training Ridge Regression for Sector: Real Estate\n",
      "✅ Best Alpha for Real Estate: 100.0\n",
      "📊 Training Ridge Regression for Sector: Consumer Discretionary\n",
      "✅ Best Alpha for Consumer Discretionary: 100.0\n",
      "📊 Training Ridge Regression for Sector: Energy\n",
      "✅ Best Alpha for Energy: 100.0\n",
      "📊 Training Ridge Regression for Sector: Communication Services\n",
      "✅ Best Alpha for Communication Services: 100.0\n",
      "                    Sector  MSE_Train  MAE_Train  R²_Train   MSE_Test  \\\n",
      "0              Health Care   0.021143   0.107833  0.321883  18.995195   \n",
      "1   Information Technology   0.041825   0.145689  0.234268   0.051823   \n",
      "2               Financials   0.023335   0.110060  0.361654   0.037248   \n",
      "3         Consumer Staples   0.014672   0.090602  0.292302   0.013974   \n",
      "4              Industrials   0.056790   0.140975  0.357321   0.052062   \n",
      "5                Utilities   0.012148   0.078724  0.556173   0.015663   \n",
      "6                Materials   0.033061   0.138658  0.224324   0.044032   \n",
      "7              Real Estate   0.019537   0.108030  0.326885   0.036726   \n",
      "8   Consumer Discretionary   0.044762   0.153567  0.239829   2.070910   \n",
      "9                   Energy   0.065059   0.175243  0.228248   0.092940   \n",
      "10  Communication Services   0.035097   0.133362  0.206848   0.050440   \n",
      "\n",
      "    MAE_Test     R²_Test  Best Alpha  \n",
      "0   0.463167 -587.103605         1.0  \n",
      "1   0.160547   -0.029643       100.0  \n",
      "2   0.134292    0.124341         1.0  \n",
      "3   0.091318   -0.143396       100.0  \n",
      "4   0.160332   -0.244643       100.0  \n",
      "5   0.094546   -0.221305        10.0  \n",
      "6   0.151376   -0.190751       100.0  \n",
      "7   0.138423   -0.082141       100.0  \n",
      "8   0.325423  -30.693383       100.0  \n",
      "9   0.219302   -0.151133       100.0  \n",
      "10  0.159598    0.099436       100.0  \n"
     ]
    }
   ],
   "execution_count": 74
  },
  {
   "metadata": {
    "ExecuteTime": {
     "end_time": "2025-03-08T12:55:00.687026Z",
     "start_time": "2025-03-08T12:55:00.111653Z"
    }
   },
   "cell_type": "code",
   "source": [
    "# Standardize Data\n",
    "scaler = StandardScaler()\n",
    "X_train_scaled = scaler.fit_transform(X_train)\n",
    "X_test_scaled = scaler.transform(X_test)\n",
    "\n",
    "# Train Ridge with Cross-Validation\n",
    "ridge_general = RidgeCV(alphas=alphas, store_cv_values=True)\n",
    "ridge_general.fit(X_train_scaled, y_train)\n",
    "\n",
    "# Get best alpha\n",
    "best_alpha_general = ridge_general.alpha_\n",
    "print(f\"✅ Best Alpha for General Model: {best_alpha_general}\")\n",
    "\n",
    "# Make Predictions - In-Sample\n",
    "y_train_pred_ridge_general = ridge_general.predict(X_train_scaled)\n",
    "\n",
    "# Make Predictions - Out-of-Sample\n",
    "y_test_pred_ridge_general = ridge_general.predict(X_test_scaled)\n",
    "\n",
    "# Evaluate General Ridge Model - In-Sample\n",
    "mse_ridge_general_train = mean_squared_error(y_train, y_train_pred_ridge_general)\n",
    "mae_ridge_general_train = mean_absolute_error(y_train, y_train_pred_ridge_general)\n",
    "r2_ridge_general_train = r2_score(y_train, y_train_pred_ridge_general)\n",
    "\n",
    "# Evaluate General Ridge Model - Out-of-Sample\n",
    "mse_ridge_general_test = mean_squared_error(y_test, y_test_pred_ridge_general)\n",
    "mae_ridge_general_test = mean_absolute_error(y_test, y_test_pred_ridge_general)\n",
    "r2_ridge_general_test = r2_score(y_test, y_test_pred_ridge_general)\n",
    "\n",
    "# Store General Model Results in a List\n",
    "general_ridge_results = [\n",
    "    [\"General Model\", mse_ridge_general_train, mae_ridge_general_train, r2_ridge_general_train,\n",
    "     mse_ridge_general_test, mae_ridge_general_test, r2_ridge_general_test, best_alpha_general]\n",
    "]\n",
    "\n",
    "# Convert to DataFrame\n",
    "general_ridge_results_df = pd.DataFrame(general_ridge_results,\n",
    "                                        columns=[\"Sector\", \"MSE_Train\", \"MAE_Train\", \"R²_Train\",\n",
    "                                                 \"MSE_Test\", \"MAE_Test\", \"R²_Test\", \"Best Alpha\"])\n",
    "\n",
    "# Display Results\n",
    "print(\"\\n📊 General Ridge Regression Results:\")\n",
    "print(general_ridge_results_df)\n"
   ],
   "id": "322a855531b0b3da",
   "outputs": [
    {
     "name": "stdout",
     "output_type": "stream",
     "text": [
      "✅ Best Alpha for General Model: 100.0\n",
      "\n",
      "📊 General Ridge Regression Results:\n",
      "          Sector  MSE_Train  MAE_Train  R²_Train  MSE_Test  MAE_Test  \\\n",
      "0  General Model   0.045701    0.13918   0.08215  0.038927  0.139553   \n",
      "\n",
      "    R²_Test  Best Alpha  \n",
      "0  0.065395       100.0  \n"
     ]
    }
   ],
   "execution_count": 75
  },
  {
   "metadata": {
    "ExecuteTime": {
     "end_time": "2025-03-08T12:55:09.864805Z",
     "start_time": "2025-03-08T12:55:09.856092Z"
    }
   },
   "cell_type": "code",
   "source": [
    "# Merge sector-specific Ridge results with general model\n",
    "ridge_comparison_df = pd.concat([ridge_results_df, general_ridge_results_df], ignore_index=True)\n",
    "\n",
    "# Format numbers for better readability\n",
    "for col in [\"MSE_Train\", \"MSE_Test\", \"MAE_Train\", \"MAE_Test\", \"R²_Train\", \"R²_Test\", \"Best Alpha\"]:\n",
    "    ridge_comparison_df[col] = ridge_comparison_df[col].apply(lambda x: f\"{x:.6f}\")\n",
    "\n",
    "# Save as CSV\n",
    "ridge_comparison_df.to_csv(\"ridge_sector_vs_general.csv\", index=False)\n",
    "\n",
    "# Display results\n",
    "print(\"\\n✅ 📂 Ridge Regression results saved successfully!\")\n",
    "print(ridge_comparison_df)\n"
   ],
   "id": "bc38d60423604efe",
   "outputs": [
    {
     "name": "stdout",
     "output_type": "stream",
     "text": [
      "\n",
      "✅ 📂 Ridge Regression results saved successfully!\n",
      "                    Sector MSE_Train MAE_Train  R²_Train   MSE_Test  MAE_Test  \\\n",
      "0              Health Care  0.021143  0.107833  0.321883  18.995195  0.463167   \n",
      "1   Information Technology  0.041825  0.145689  0.234268   0.051823  0.160547   \n",
      "2               Financials  0.023335  0.110060  0.361654   0.037248  0.134292   \n",
      "3         Consumer Staples  0.014672  0.090602  0.292302   0.013974  0.091318   \n",
      "4              Industrials  0.056790  0.140975  0.357321   0.052062  0.160332   \n",
      "5                Utilities  0.012148  0.078724  0.556173   0.015663  0.094546   \n",
      "6                Materials  0.033061  0.138658  0.224324   0.044032  0.151376   \n",
      "7              Real Estate  0.019537  0.108030  0.326885   0.036726  0.138423   \n",
      "8   Consumer Discretionary  0.044762  0.153567  0.239829   2.070910  0.325423   \n",
      "9                   Energy  0.065059  0.175243  0.228248   0.092940  0.219302   \n",
      "10  Communication Services  0.035097  0.133362  0.206848   0.050440  0.159598   \n",
      "11           General Model  0.045701  0.139180  0.082150   0.038927  0.139553   \n",
      "\n",
      "        R²_Test  Best Alpha  \n",
      "0   -587.103605    1.000000  \n",
      "1     -0.029643  100.000000  \n",
      "2      0.124341    1.000000  \n",
      "3     -0.143396  100.000000  \n",
      "4     -0.244643  100.000000  \n",
      "5     -0.221305   10.000000  \n",
      "6     -0.190751  100.000000  \n",
      "7     -0.082141  100.000000  \n",
      "8    -30.693383  100.000000  \n",
      "9     -0.151133  100.000000  \n",
      "10     0.099436  100.000000  \n",
      "11     0.065395  100.000000  \n"
     ]
    }
   ],
   "execution_count": 76
  },
  {
   "metadata": {
    "ExecuteTime": {
     "end_time": "2025-03-08T12:55:53.365892Z",
     "start_time": "2025-03-08T12:55:53.348089Z"
    }
   },
   "cell_type": "code",
   "source": [
    "import pandas as pd\n",
    "\n",
    "# Ensure both DataFrames exist before merging\n",
    "if \"lasso_results_df\" not in globals():\n",
    "    raise ValueError(\"🚨 `lasso_results_df` (Lasso Regression results) is missing.\")\n",
    "if \"ridge_results_df\" not in globals():\n",
    "    raise ValueError(\"🚨 `ridge_results_df` (Ridge Regression results) is missing.\")\n",
    "\n",
    "# Merge Lasso and Ridge results on Sector\n",
    "comparison_df = lasso_results_df.merge(ridge_results_df, on=\"Sector\", suffixes=(\"_Lasso\", \"_Ridge\"))\n",
    "\n",
    "# Convert R² values to numeric (handling potential errors)\n",
    "for col in [\"R²_Train_Lasso\", \"R²_Test_Lasso\", \"R²_Train_Ridge\", \"R²_Test_Ridge\"]:\n",
    "    comparison_df[col] = pd.to_numeric(comparison_df[col], errors=\"coerce\")\n",
    "\n",
    "# Compute the difference in R² (Ridge - Lasso) for both in-sample & out-of-sample\n",
    "comparison_df[\"R²_Train Difference\"] = comparison_df[\"R²_Train_Ridge\"] - comparison_df[\"R²_Train_Lasso\"]\n",
    "comparison_df[\"R²_Test Difference\"] = comparison_df[\"R²_Test_Ridge\"] - comparison_df[\"R²_Test_Lasso\"]\n",
    "\n",
    "# Format numbers for better readability\n",
    "for col in [\"R²_Train_Lasso\", \"R²_Test_Lasso\", \"R²_Train_Ridge\", \"R²_Test_Ridge\",\n",
    "            \"R²_Train Difference\", \"R²_Test Difference\"]:\n",
    "    comparison_df[col] = comparison_df[col].apply(lambda x: f\"{x:.6f}\" if pd.notnull(x) else \"NaN\")\n",
    "\n",
    "# Save to CSV\n",
    "comparison_df.to_csv(\"r2_difference_lasso_vs_ridge.csv\", index=False)\n",
    "\n",
    "# Display table\n",
    "print(\"\\n✅ 📂 R² Differences (Lasso vs. Ridge) saved successfully!\")\n",
    "print(comparison_df[[\"Sector\", \"R²_Train_Lasso\", \"R²_Test_Lasso\",\n",
    "                     \"R²_Train_Ridge\", \"R²_Test_Ridge\",\n",
    "                     \"R²_Train Difference\", \"R²_Test Difference\"]])\n"
   ],
   "id": "6789c3102c75e53d",
   "outputs": [
    {
     "name": "stdout",
     "output_type": "stream",
     "text": [
      "\n",
      "✅ 📂 R² Differences (Lasso vs. Ridge) saved successfully!\n",
      "                    Sector R²_Train_Lasso R²_Test_Lasso R²_Train_Ridge  \\\n",
      "0              Health Care       0.277721   -253.846465       0.321883   \n",
      "1   Information Technology       0.334394      0.081341       0.234268   \n",
      "2               Financials       0.331126      0.156931       0.361654   \n",
      "3         Consumer Staples       0.171008     -0.009410       0.292302   \n",
      "4              Industrials       0.000000     -0.010823       0.357321   \n",
      "5                Utilities       0.000000     -0.080267       0.556173   \n",
      "6                Materials       0.000000     -0.029009       0.224324   \n",
      "7              Real Estate       0.000000     -0.015954       0.326885   \n",
      "8   Consumer Discretionary       0.161657    -12.477685       0.239829   \n",
      "9                   Energy       0.193128     -0.034909       0.228248   \n",
      "10  Communication Services       0.000000     -0.012437       0.206848   \n",
      "\n",
      "   R²_Test_Ridge R²_Train Difference R²_Test Difference  \n",
      "0    -587.103605            0.044162        -333.257141  \n",
      "1      -0.029643           -0.100126          -0.110985  \n",
      "2       0.124341            0.030528          -0.032590  \n",
      "3      -0.143396            0.121293          -0.133987  \n",
      "4      -0.244643            0.357321          -0.233821  \n",
      "5      -0.221305            0.556173          -0.141038  \n",
      "6      -0.190751            0.224324          -0.161742  \n",
      "7      -0.082141            0.326885          -0.066187  \n",
      "8     -30.693383            0.078172         -18.215698  \n",
      "9      -0.151133            0.035120          -0.116224  \n",
      "10      0.099436            0.206848           0.111873  \n"
     ]
    }
   ],
   "execution_count": 77
  },
  {
   "metadata": {},
   "cell_type": "markdown",
   "source": "Now, I am going to train the Non-Linear Models, to see if I can get improvements comapre to the linear models, I am done with the Linear Models for now",
   "id": "b90efb918b85662b"
  }
 ],
 "metadata": {
  "kernelspec": {
   "display_name": "Python 3",
   "language": "python",
   "name": "python3"
  },
  "language_info": {
   "codemirror_mode": {
    "name": "ipython",
    "version": 2
   },
   "file_extension": ".py",
   "mimetype": "text/x-python",
   "name": "python",
   "nbconvert_exporter": "python",
   "pygments_lexer": "ipython2",
   "version": "2.7.6"
  }
 },
 "nbformat": 4,
 "nbformat_minor": 5
}
