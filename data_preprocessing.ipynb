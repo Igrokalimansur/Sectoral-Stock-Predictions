{
 "cells": [
  {
   "cell_type": "code",
   "id": "initial_id",
   "metadata": {
    "collapsed": true,
    "ExecuteTime": {
     "end_time": "2025-02-28T10:15:20.407142Z",
     "start_time": "2025-02-28T10:15:20.404778Z"
    }
   },
   "source": [
    "import pandas as pd\n",
    "import numpy as np\n",
    "import matplotlib.pyplot as plt\n",
    "import seaborn as sns"
   ],
   "outputs": [],
   "execution_count": 1
  },
  {
   "metadata": {
    "ExecuteTime": {
     "end_time": "2025-02-28T10:15:21.491507Z",
     "start_time": "2025-02-28T10:15:21.026160Z"
    }
   },
   "cell_type": "code",
   "source": [
    "# Geeting Data + Head\n",
    "\n",
    "income_statement = pd.read_csv('sp500_income_statements.csv')\n",
    "balance_sheet = pd.read_csv('sp500_balance_sheet.csv')\n",
    "cash_flow = pd.read_csv('sp500_cash_flow.csv')\n",
    "earnings = pd.read_csv('sp500_earnings.csv')\n",
    "stock_prices = pd.read_csv('sp500_monthly_data.csv')\n",
    "sector_info = pd.read_csv('sp500_tickers.csv')\n",
    "\n",
    "# Merge everything, but only keep netIncome from the income statement\n",
    "financial_data = (\n",
    "    balance_sheet.merge(cash_flow.drop(columns=[\"netIncome\"], errors=\"ignore\"), on=[\"Ticker\", \"fiscalDateEnding\"], how=\"inner\")\n",
    "    .merge(income_statement, on=[\"Ticker\", \"fiscalDateEnding\"], how=\"inner\")\n",
    "    .merge(earnings, on=[\"Ticker\", \"fiscalDateEnding\"], how=\"inner\")\n",
    "    .merge(stock_prices, left_on=[\"Ticker\", \"fiscalDateEnding\"], right_on=[\"Ticker\", \"Date\"], how=\"inner\")\n",
    "    .merge(sector_info, on=\"Ticker\", how=\"left\")\n",
    ")\n",
    "\n",
    "# Drop redundant Date column\n",
    "financial_data.drop(columns=[\"Date\"], inplace=True, errors=\"ignore\")\n",
    "print(financial_data.head())\n",
    "# Combined datase"
   ],
   "id": "d2f66e24369b32fb",
   "outputs": [
    {
     "name": "stdout",
     "output_type": "stream",
     "text": [
      "  fiscalDateEnding reportedCurrency_x   totalAssets  totalCurrentAssets  \\\n",
      "0       2024-12-31                USD  3.986800e+10        1.588400e+10   \n",
      "1       2024-09-30                USD  4.087500e+10        1.629900e+10   \n",
      "2       2023-06-30                USD  4.888000e+10        1.575400e+10   \n",
      "3       2023-03-31                USD  4.688600e+10        1.496300e+10   \n",
      "4       2022-09-30                USD  4.617600e+10        1.489500e+10   \n",
      "\n",
      "   cashAndCashEquivalentsAtCarryingValue  cashAndShortTermInvestments  \\\n",
      "0                           5.600000e+09                 5.600000e+09   \n",
      "1                           6.050000e+09                 6.050000e+09   \n",
      "2                           4.258000e+09                 4.258000e+09   \n",
      "3                           3.824000e+09                 3.824000e+09   \n",
      "4                           3.404000e+09                 3.404000e+09   \n",
      "\n",
      "      inventory  currentNetReceivables  totalNonCurrentAssets  \\\n",
      "0  3.698000e+09           3.194000e+09           2.944800e+10   \n",
      "1  4.039000e+09           3.528000e+09           2.457600e+10   \n",
      "2  5.280000e+09           4.947000e+09           3.312600e+10   \n",
      "3  5.306000e+09           4.638000e+09           3.192300e+10   \n",
      "4  5.615000e+09           4.722000e+09           3.128100e+10   \n",
      "\n",
      "   propertyPlantEquipment  ...  estimatedEPS  surprise  surprisePercentage  \\\n",
      "0            7.388000e+09  ...          1.67      0.01              0.5988   \n",
      "1            7.529000e+09  ...          1.91      0.07              3.6649   \n",
      "2            9.211000e+09  ...          1.72      0.45             26.1628   \n",
      "3            9.247000e+09  ...          1.58      0.39             24.6835   \n",
      "4            9.196000e+09  ...          2.60      0.09              3.4615   \n",
      "\n",
      "   reportTime    Open    High       Low   Close     Volume       Sector  \n",
      "0  pre-market  133.53  135.58  125.3700  129.09   61528902  Industrials  \n",
      "1  pre-market  133.01  140.72  127.1200  136.70   74298162  Industrials  \n",
      "2  pre-market   93.47  104.89   92.3800  100.09   95076103  Industrials  \n",
      "3  pre-market  111.04  112.33  100.1575  105.11   90561276  Industrials  \n",
      "4  pre-market  124.30  126.52  110.3900  110.50  239748874  Industrials  \n",
      "\n",
      "[5 rows x 103 columns]\n"
     ]
    }
   ],
   "execution_count": 2
  },
  {
   "metadata": {
    "ExecuteTime": {
     "end_time": "2025-02-28T10:14:50.642301Z",
     "start_time": "2025-02-28T10:14:50.544897Z"
    }
   },
   "cell_type": "code",
   "source": [
    "numeric_cols = financial_data.select_dtypes(include=[\"number\"]).columns\n",
    "\n",
    "financial_data[numeric_cols] = financial_data[numeric_cols].fillna(financial_data[numeric_cols].median())\n",
    "\n",
    "financial_data.sort_values(by=[\"Ticker\", \"fiscalDateEnding\"], inplace=True)\n",
    "financial_data.ffill(inplace=True)\n",
    "\n",
    "financial_data.dropna(axis=1, thresh=len(financial_data) * 0.5, inplace=True)"
   ],
   "id": "a4e64bf9fc0e1c9",
   "outputs": [],
   "execution_count": 4
  },
  {
   "metadata": {
    "ExecuteTime": {
     "end_time": "2025-02-28T10:14:53.059650Z",
     "start_time": "2025-02-28T10:14:53.056727Z"
    }
   },
   "cell_type": "code",
   "source": [
    "# Feature Engineering\n",
    "\n",
    "financial_data[\"currentRatio\"] = financial_data[\"totalCurrentAssets\"] / financial_data[\"totalCurrentLiabilities\"]\n",
    "financial_data[\"debtToEquity\"] = financial_data[\"totalLiabilities\"] / financial_data[\"totalShareholderEquity\"]\n",
    "financial_data[\"netProfitMargin\"] = financial_data[\"netIncome\"] / financial_data[\"totalRevenue\"]\n",
    "financial_data[\"operatingCashFlowMargin\"] = financial_data[\"operatingCashflow\"] / financial_data[\"totalRevenue\"]\n"
   ],
   "id": "fca05f97a8ca5220",
   "outputs": [],
   "execution_count": 5
  },
  {
   "metadata": {
    "ExecuteTime": {
     "end_time": "2025-02-28T10:14:53.975116Z",
     "start_time": "2025-02-28T10:14:53.965691Z"
    }
   },
   "cell_type": "code",
   "source": [
    "# Liquidity Ratios\n",
    "financial_data[\"quickRatio\"] = (financial_data[\"totalCurrentAssets\"] - financial_data[\"inventory\"]) / financial_data[\"totalCurrentLiabilities\"]\n",
    "\n",
    "# Profitability Ratios\n",
    "financial_data[\"returnOnAssets\"] = financial_data[\"netIncome\"] / financial_data[\"totalAssets\"]\n",
    "financial_data[\"returnOnEquity\"] = financial_data[\"netIncome\"] / financial_data[\"totalShareholderEquity\"]\n",
    "\n",
    "# Efficiency Ratios\n",
    "financial_data[\"assetTurnover\"] = financial_data[\"totalRevenue\"] / financial_data[\"totalAssets\"]"
   ],
   "id": "f0907eb4d6de8ee6",
   "outputs": [],
   "execution_count": 6
  },
  {
   "metadata": {
    "ExecuteTime": {
     "end_time": "2025-02-28T10:14:59.069509Z",
     "start_time": "2025-02-28T10:14:59.038778Z"
    }
   },
   "cell_type": "code",
   "source": [
    "# Sort data before calculating returns\n",
    "financial_data.sort_values(by=[\"Ticker\", \"fiscalDateEnding\"], inplace=True)\n",
    "\n",
    "# 1-month stock return\n",
    "financial_data[\"monthly_return\"] = financial_data.groupby(\"Ticker\")[\"Close\"].pct_change()\n",
    "\n",
    "# Rolling 6-month volatility\n",
    "financial_data[\"volatility_6m\"] = financial_data.groupby(\"Ticker\")[\"Close\"].rolling(window=6).std().reset_index(0, drop=True)"
   ],
   "id": "9f59dc027ae3010d",
   "outputs": [],
   "execution_count": 7
  },
  {
   "metadata": {
    "ExecuteTime": {
     "end_time": "2025-02-28T10:15:00.538923Z",
     "start_time": "2025-02-28T10:15:00.468984Z"
    }
   },
   "cell_type": "code",
   "source": [
    "# Replace infinities with NaN\n",
    "financial_data.replace([np.inf, -np.inf], np.nan, inplace=True)\n",
    "\n",
    "# Select only numeric columns\n",
    "numeric_cols = financial_data.select_dtypes(include=[\"number\"]).columns\n",
    "\n",
    "# Fill missing values with median (only for numeric columns)\n",
    "financial_data[numeric_cols] = financial_data[numeric_cols].fillna(financial_data[numeric_cols].median())"
   ],
   "id": "f61705a0ccff60d9",
   "outputs": [],
   "execution_count": 8
  },
  {
   "metadata": {
    "ExecuteTime": {
     "end_time": "2025-02-24T16:38:36.626177Z",
     "start_time": "2025-02-24T16:38:36.093178Z"
    }
   },
   "cell_type": "code",
   "source": [
    "# Standardization\n",
    "\n",
    "from sklearn.preprocessing import StandardScaler\n",
    "\n",
    "# Exclude non-numeric columns\n",
    "num_cols = financial_data.select_dtypes(include=[\"number\"]).columns\n",
    "\n",
    "# Standardize numerical features only\n",
    "scaler = StandardScaler()\n",
    "financial_data[num_cols] = scaler.fit_transform(financial_data[num_cols])\n"
   ],
   "id": "6073a52c5019f923",
   "outputs": [
    {
     "ename": "NameError",
     "evalue": "name 'financial_data' is not defined",
     "output_type": "error",
     "traceback": [
      "\u001B[0;31m---------------------------------------------------------------------------\u001B[0m",
      "\u001B[0;31mNameError\u001B[0m                                 Traceback (most recent call last)",
      "Cell \u001B[0;32mIn [1], line 6\u001B[0m\n\u001B[1;32m      3\u001B[0m \u001B[38;5;28;01mfrom\u001B[39;00m \u001B[38;5;21;01msklearn\u001B[39;00m\u001B[38;5;21;01m.\u001B[39;00m\u001B[38;5;21;01mpreprocessing\u001B[39;00m \u001B[38;5;28;01mimport\u001B[39;00m StandardScaler\n\u001B[1;32m      5\u001B[0m \u001B[38;5;66;03m# Exclude non-numeric columns\u001B[39;00m\n\u001B[0;32m----> 6\u001B[0m num_cols \u001B[38;5;241m=\u001B[39m \u001B[43mfinancial_data\u001B[49m\u001B[38;5;241m.\u001B[39mselect_dtypes(include\u001B[38;5;241m=\u001B[39m[\u001B[38;5;124m\"\u001B[39m\u001B[38;5;124mnumber\u001B[39m\u001B[38;5;124m\"\u001B[39m])\u001B[38;5;241m.\u001B[39mcolumns\n\u001B[1;32m      8\u001B[0m \u001B[38;5;66;03m# Standardize numerical features only\u001B[39;00m\n\u001B[1;32m      9\u001B[0m scaler \u001B[38;5;241m=\u001B[39m StandardScaler()\n",
      "\u001B[0;31mNameError\u001B[0m: name 'financial_data' is not defined"
     ]
    }
   ],
   "execution_count": 1
  },
  {
   "metadata": {
    "ExecuteTime": {
     "end_time": "2025-02-28T10:15:24.410396Z",
     "start_time": "2025-02-28T10:15:24.403027Z"
    }
   },
   "cell_type": "code",
   "source": "print(financial_data.isnull().sum())",
   "id": "2b285d733322a1d5",
   "outputs": [
    {
     "name": "stdout",
     "output_type": "stream",
     "text": [
      "fiscalDateEnding                         0\n",
      "reportedCurrency_x                       2\n",
      "totalAssets                              1\n",
      "totalCurrentAssets                       0\n",
      "cashAndCashEquivalentsAtCarryingValue    3\n",
      "                                        ..\n",
      "High                                     0\n",
      "Low                                      0\n",
      "Close                                    0\n",
      "Volume                                   0\n",
      "Sector                                   0\n",
      "Length: 103, dtype: int64\n"
     ]
    }
   ],
   "execution_count": 3
  },
  {
   "metadata": {
    "ExecuteTime": {
     "end_time": "2025-02-22T13:30:25.729055Z",
     "start_time": "2025-02-22T13:30:24.277930Z"
    }
   },
   "cell_type": "code",
   "source": "financial_data.to_csv(\"normalized_financial_data.csv\", index=False)",
   "id": "193059ec40a3e8ca",
   "outputs": [],
   "execution_count": 35
  },
  {
   "metadata": {
    "ExecuteTime": {
     "end_time": "2025-02-22T13:30:33.863304Z",
     "start_time": "2025-02-22T13:30:33.611829Z"
    }
   },
   "cell_type": "code",
   "source": [
    "# Load the saved file to verify\n",
    "df_check = pd.read_csv(\"normalized_financial_data.csv\")\n",
    "print(df_check.head())  # Check first few rows"
   ],
   "id": "d422deae13a4e593",
   "outputs": [
    {
     "name": "stdout",
     "output_type": "stream",
     "text": [
      "  fiscalDateEnding reportedCurrency_x  totalAssets  totalCurrentAssets  \\\n",
      "0       2009-07-31                USD    -0.219533           -0.269218   \n",
      "1       2010-04-30                USD    -0.215813           -0.195698   \n",
      "2       2011-01-31                USD    -0.214949           -0.224793   \n",
      "3       2011-10-31                USD    -0.211793           -0.199433   \n",
      "4       2012-01-31                USD    -0.211662           -0.195620   \n",
      "\n",
      "   cashAndCashEquivalentsAtCarryingValue  cashAndShortTermInvestments  \\\n",
      "0                              -0.141489                    -0.174209   \n",
      "1                              -0.101249                    -0.140200   \n",
      "2                              -0.101525                    -0.140258   \n",
      "3                              -0.070871                    -0.114648   \n",
      "4                              -0.066216                    -0.110684   \n",
      "\n",
      "   inventory  currentNetReceivables  totalNonCurrentAssets  \\\n",
      "0  -0.004837              -0.378137              -0.353013   \n",
      "1  -0.005244              -0.352788              -0.381662   \n",
      "2  -0.001162              -0.315270              -0.357078   \n",
      "3   0.000480              -0.314054              -0.353314   \n",
      "4   0.001114              -0.323382              -0.358174   \n",
      "\n",
      "   propertyPlantEquipment  ...  currentRatio  debtToEquity  netProfitMargin  \\\n",
      "0               -0.391545  ...     -0.048181     -0.007461        -0.011436   \n",
      "1               -0.391917  ...     -0.064695     -0.007461        -0.011131   \n",
      "2               -0.384896  ...     -0.041149     -0.007461        -0.011019   \n",
      "3               -0.383780  ...     -0.045987     -0.007461        -0.010905   \n",
      "4               -0.383733  ...     -0.039494     -0.007461        -0.010967   \n",
      "\n",
      "   operatingCashFlowMargin  quickRatio  returnOnAssets  returnOnEquity  \\\n",
      "0                -0.008656    0.003797       -0.028155       -0.007474   \n",
      "1                -0.008608    0.002126       -0.012787       -0.007473   \n",
      "2                -0.008643    0.005150       -0.003556       -0.007473   \n",
      "3                -0.008571    0.004540        0.003688       -0.007473   \n",
      "4                -0.008638    0.005526       -0.002380       -0.007473   \n",
      "\n",
      "   assetTurnover  monthly_return  volatility_6m  \n",
      "0      -0.017235       -0.044079      -0.175718  \n",
      "1      -0.016397        1.399726      -0.175718  \n",
      "2      -0.008289        0.260566      -0.175718  \n",
      "3      -0.007599       -0.486100      -0.175718  \n",
      "4      -0.012191        0.238389      -0.175718  \n",
      "\n",
      "[5 rows x 113 columns]\n"
     ]
    }
   ],
   "execution_count": 36
  },
  {
   "metadata": {
    "ExecuteTime": {
     "end_time": "2025-02-22T13:33:39.961141Z",
     "start_time": "2025-02-22T13:33:39.231687Z"
    }
   },
   "cell_type": "code",
   "source": "financial_data.to_csv(\"financial_data.csv\", index=False)",
   "id": "33c7817770f33ab9",
   "outputs": [],
   "execution_count": 11
  },
  {
   "metadata": {
    "ExecuteTime": {
     "end_time": "2025-02-23T11:22:04.490147Z",
     "start_time": "2025-02-23T11:22:04.453642Z"
    }
   },
   "cell_type": "code",
   "source": "print(financial_data.columns.tolist())",
   "id": "4fe2865f38049faa",
   "outputs": [
    {
     "name": "stdout",
     "output_type": "stream",
     "text": [
      "['fiscalDateEnding', 'reportedCurrency_x', 'totalAssets', 'totalCurrentAssets', 'cashAndCashEquivalentsAtCarryingValue', 'cashAndShortTermInvestments', 'inventory', 'currentNetReceivables', 'totalNonCurrentAssets', 'propertyPlantEquipment', 'accumulatedDepreciationAmortizationPPE', 'intangibleAssets', 'intangibleAssetsExcludingGoodwill', 'goodwill', 'investments', 'longTermInvestments', 'shortTermInvestments', 'otherCurrentAssets', 'otherNonCurrentAssets', 'totalLiabilities', 'totalCurrentLiabilities', 'currentAccountsPayable', 'deferredRevenue', 'currentDebt', 'shortTermDebt', 'totalNonCurrentLiabilities', 'capitalLeaseObligations', 'longTermDebt', 'currentLongTermDebt', 'longTermDebtNoncurrent', 'shortLongTermDebtTotal', 'otherCurrentLiabilities', 'otherNonCurrentLiabilities', 'totalShareholderEquity', 'treasuryStock', 'retainedEarnings', 'commonStock', 'commonStockSharesOutstanding', 'Ticker', 'reportedCurrency_y', 'operatingCashflow', 'paymentsForOperatingActivities', 'proceedsFromOperatingActivities', 'changeInOperatingLiabilities', 'changeInOperatingAssets', 'depreciationDepletionAndAmortization', 'capitalExpenditures', 'changeInReceivables', 'changeInInventory', 'profitLoss', 'cashflowFromInvestment', 'cashflowFromFinancing', 'proceedsFromRepaymentsOfShortTermDebt', 'paymentsForRepurchaseOfCommonStock', 'paymentsForRepurchaseOfEquity', 'paymentsForRepurchaseOfPreferredStock', 'dividendPayout', 'dividendPayoutCommonStock', 'dividendPayoutPreferredStock', 'proceedsFromIssuanceOfCommonStock', 'proceedsFromIssuanceOfLongTermDebtAndCapitalSecuritiesNet', 'proceedsFromIssuanceOfPreferredStock', 'proceedsFromRepurchaseOfEquity', 'proceedsFromSaleOfTreasuryStock', 'changeInCashAndCashEquivalents', 'changeInExchangeRate', 'reportedCurrency', 'grossProfit', 'totalRevenue', 'costOfRevenue', 'costofGoodsAndServicesSold', 'operatingIncome', 'sellingGeneralAndAdministrative', 'researchAndDevelopment', 'operatingExpenses', 'investmentIncomeNet', 'netInterestIncome', 'interestIncome', 'interestExpense', 'nonInterestIncome', 'otherNonOperatingIncome', 'depreciation', 'depreciationAndAmortization', 'incomeBeforeTax', 'incomeTaxExpense', 'interestAndDebtExpense', 'netIncomeFromContinuingOperations', 'comprehensiveIncomeNetOfTax', 'ebit', 'ebitda', 'netIncome', 'reportedDate', 'reportedEPS', 'estimatedEPS', 'surprise', 'surprisePercentage', 'reportTime', 'Open', 'High', 'Low', 'Close', 'Volume', 'Sector', 'currentRatio', 'debtToEquity', 'netProfitMargin', 'operatingCashFlowMargin', 'quickRatio', 'returnOnAssets', 'returnOnEquity', 'assetTurnover', 'monthly_return', 'volatility_6m']\n"
     ]
    }
   ],
   "execution_count": 12
  }
 ],
 "metadata": {
  "kernelspec": {
   "display_name": "Python 3",
   "language": "python",
   "name": "python3"
  },
  "language_info": {
   "codemirror_mode": {
    "name": "ipython",
    "version": 2
   },
   "file_extension": ".py",
   "mimetype": "text/x-python",
   "name": "python",
   "nbconvert_exporter": "python",
   "pygments_lexer": "ipython2",
   "version": "2.7.6"
  }
 },
 "nbformat": 4,
 "nbformat_minor": 5
}
