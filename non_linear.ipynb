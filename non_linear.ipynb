{
 "cells": [
  {
   "metadata": {
    "ExecuteTime": {
     "end_time": "2025-03-08T12:11:50.020524Z",
     "start_time": "2025-03-08T12:11:50.014520Z"
    }
   },
   "cell_type": "code",
   "source": [
    "import numpy as np\n",
    "from sklearn.ensemble import RandomForestRegressor\n",
    "from sklearn.metrics import mean_squared_error, mean_absolute_error, r2_score\n",
    "import matplotlib.pyplot as plt\n",
    "import seaborn as sns\n",
    "import pandas as pd"
   ],
   "id": "6fed2be6040efc",
   "outputs": [],
   "execution_count": 15
  },
  {
   "metadata": {
    "collapsed": true,
    "ExecuteTime": {
     "end_time": "2025-03-08T12:43:10.705980Z",
     "start_time": "2025-03-08T12:42:28.596644Z"
    }
   },
   "cell_type": "code",
   "source": [
    "import pandas as pd\n",
    "import numpy as np\n",
    "from sklearn.ensemble import RandomForestRegressor\n",
    "from sklearn.metrics import mean_squared_error, mean_absolute_error, r2_score\n",
    "from sklearn.model_selection import train_test_split\n",
    "\n",
    "# Load data\n",
    "df = pd.read_csv(\"data_with_spread.csv\")\n",
    "\n",
    "# Define target variable\n",
    "target = \"monthly_return\"\n",
    "\n",
    "# Drop non-numeric columns\n",
    "X = df.select_dtypes(include=[\"number\"]).drop(columns=[target], errors=\"ignore\")\n",
    "y = df[target]\n",
    "\n",
    "# Train-test split\n",
    "X_train, X_test, y_train, y_test = train_test_split(X, y, test_size=0.2, random_state=42)\n",
    "\n",
    "# Train Random Forest Model\n",
    "rf_model = RandomForestRegressor(n_estimators=100, random_state=42)\n",
    "rf_model.fit(X_train, y_train)\n",
    "\n",
    "# Predictions (In-Sample)\n",
    "y_train_pred_rf = rf_model.predict(X_train)\n",
    "\n",
    "# Predictions (Out-of-Sample)\n",
    "y_test_pred_rf = rf_model.predict(X_test)\n",
    "\n",
    "# Evaluate Model - In-Sample (Training)\n",
    "mse_rf_train = mean_squared_error(y_train, y_train_pred_rf)\n",
    "mae_rf_train = mean_absolute_error(y_train, y_train_pred_rf)\n",
    "r2_rf_train = r2_score(y_train, y_train_pred_rf)\n",
    "\n",
    "# Evaluate Model - Out-of-Sample (Testing)\n",
    "mse_rf_test = mean_squared_error(y_test, y_test_pred_rf)\n",
    "mae_rf_test = mean_absolute_error(y_test, y_test_pred_rf)\n",
    "r2_rf_test = r2_score(y_test, y_test_pred_rf)\n",
    "\n",
    "print(f\"\\n📊 Random Forest (General Model) - Training Set:\")\n",
    "print(f\"MSE: {mse_rf_train:.4f}, MAE: {mae_rf_train:.4f}, R²: {r2_rf_train:.4f}\")\n",
    "\n",
    "print(f\"\\n📊 Random Forest (General Model) - Test Set:\")\n",
    "print(f\"MSE: {mse_rf_test:.4f}, MAE: {mae_rf_test:.4f}, R²: {r2_rf_test:.4f}\")"
   ],
   "id": "initial_id",
   "outputs": [
    {
     "name": "stdout",
     "output_type": "stream",
     "text": [
      "\n",
      "📊 Random Forest (General Model) - Training Set:\n",
      "MSE: 0.0052, MAE: 0.0426, R²: 0.8961\n",
      "\n",
      "📊 Random Forest (General Model) - Test Set:\n",
      "MSE: 0.0283, MAE: 0.1129, R²: 0.3216\n"
     ]
    }
   ],
   "execution_count": 25
  },
  {
   "metadata": {
    "ExecuteTime": {
     "end_time": "2025-03-08T12:43:35.282338Z",
     "start_time": "2025-03-08T12:43:10.738900Z"
    }
   },
   "cell_type": "code",
   "source": [
    "sector_models = {}  # Dictionary to store trained models\n",
    "sector_results_rf = []  # List to store sector results\n",
    "\n",
    "# Loop through each sector and train a separate model\n",
    "for sector in df[\"Sector\"].unique():\n",
    "    print(f\"\\n🌍 Training Random Forest for Sector: {sector}\")\n",
    "\n",
    "    # Filter data for this sector\n",
    "    sector_data = df[df[\"Sector\"] == sector]\n",
    "\n",
    "    # Define X and y\n",
    "    X_sector = sector_data.select_dtypes(include=[\"number\"]).drop(columns=[target], errors=\"ignore\")\n",
    "    y_sector = sector_data[target]\n",
    "\n",
    "    # Train-test split\n",
    "    X_train, X_test, y_train, y_test = train_test_split(X_sector, y_sector, test_size=0.2, random_state=42)\n",
    "\n",
    "    # Train Random Forest Model\n",
    "    rf_sector = RandomForestRegressor(n_estimators=100, random_state=42)\n",
    "    rf_sector.fit(X_train, y_train)\n",
    "\n",
    "    # Store trained model and data for later use\n",
    "    sector_models[sector] = {\"rf_model\": rf_sector, \"X_train\": X_train}\n",
    "\n",
    "    # Predictions - In-Sample\n",
    "    y_train_pred_rf_sector = rf_sector.predict(X_train)\n",
    "\n",
    "    # Predictions - Out-of-Sample\n",
    "    y_test_pred_rf_sector = rf_sector.predict(X_test)\n",
    "\n",
    "    # Evaluate Model - In-Sample (Training)\n",
    "    mse_rf_train_sector = mean_squared_error(y_train, y_train_pred_rf_sector)\n",
    "    mae_rf_train_sector = mean_absolute_error(y_train, y_train_pred_rf_sector)\n",
    "    r2_rf_train_sector = r2_score(y_train, y_train_pred_rf_sector)\n",
    "\n",
    "    # Evaluate Model - Out-of-Sample (Testing)\n",
    "    mse_rf_test_sector = mean_squared_error(y_test, y_test_pred_rf_sector)\n",
    "    mae_rf_test_sector = mean_absolute_error(y_test, y_test_pred_rf_sector)\n",
    "    r2_rf_test_sector = r2_score(y_test, y_test_pred_rf_sector)\n",
    "\n",
    "    print(f\"\\n📊 Sector: {sector} → Training Set:\")\n",
    "    print(f\"MSE: {mse_rf_train_sector:.4f}, MAE: {mae_rf_train_sector:.4f}, R²: {r2_rf_train_sector:.4f}\")\n",
    "\n",
    "    print(f\"\\n📊 Sector: {sector} → Test Set:\")\n",
    "    print(f\"MSE: {mse_rf_test_sector:.4f}, MAE: {mae_rf_test_sector:.4f}, R²: {r2_rf_test_sector:.4f}\")\n",
    "\n",
    "    # Store results\n",
    "    sector_results_rf.append({\n",
    "        \"Sector\": sector,\n",
    "        \"MSE_Train\": mse_rf_train_sector,\n",
    "        \"MAE_Train\": mae_rf_train_sector,\n",
    "        \"R²_Train\": r2_rf_train_sector,\n",
    "        \"MSE_Test\": mse_rf_test_sector,\n",
    "        \"MAE_Test\": mae_rf_test_sector,\n",
    "        \"R²_Test\": r2_rf_test_sector\n",
    "    })\n",
    "\n",
    "# Convert results to DataFrame and save\n",
    "rf_results_df = pd.DataFrame(sector_results_rf)\n",
    "rf_results_df.to_csv(\"random_forest_sector_results_initial.csv\", index=False)\n",
    "\n",
    "print(\"\\n✅ 📂 Sector-Specific Random Forest Models Trained & Stored Successfully!\")\n"
   ],
   "id": "ea7be8339f2b1740",
   "outputs": [
    {
     "name": "stdout",
     "output_type": "stream",
     "text": [
      "\n",
      "🌍 Training Random Forest for Sector: Health Care\n",
      "\n",
      "📊 Sector: Health Care → Training Set:\n",
      "MSE: 0.0043, MAE: 0.0470, R²: 0.8610\n",
      "\n",
      "📊 Sector: Health Care → Test Set:\n",
      "MSE: 0.0269, MAE: 0.1281, R²: 0.1680\n",
      "\n",
      "🌍 Training Random Forest for Sector: Information Technology\n",
      "\n",
      "📊 Sector: Information Technology → Training Set:\n",
      "MSE: 0.0056, MAE: 0.0519, R²: 0.8967\n",
      "\n",
      "📊 Sector: Information Technology → Test Set:\n",
      "MSE: 0.0410, MAE: 0.1411, R²: 0.1858\n",
      "\n",
      "🌍 Training Random Forest for Sector: Financials\n",
      "\n",
      "📊 Sector: Financials → Training Set:\n",
      "MSE: 0.0026, MAE: 0.0351, R²: 0.9281\n",
      "\n",
      "📊 Sector: Financials → Test Set:\n",
      "MSE: 0.0221, MAE: 0.1003, R²: 0.4796\n",
      "\n",
      "🌍 Training Random Forest for Sector: Consumer Staples\n",
      "\n",
      "📊 Sector: Consumer Staples → Training Set:\n",
      "MSE: 0.0030, MAE: 0.0394, R²: 0.8547\n",
      "\n",
      "📊 Sector: Consumer Staples → Test Set:\n",
      "MSE: 0.0135, MAE: 0.0888, R²: -0.1087\n",
      "\n",
      "🌍 Training Random Forest for Sector: Industrials\n",
      "\n",
      "📊 Sector: Industrials → Training Set:\n",
      "MSE: 0.0120, MAE: 0.0485, R²: 0.8640\n",
      "\n",
      "📊 Sector: Industrials → Test Set:\n",
      "MSE: 0.0322, MAE: 0.1195, R²: 0.2292\n",
      "\n",
      "🌍 Training Random Forest for Sector: Utilities\n",
      "\n",
      "📊 Sector: Utilities → Training Set:\n",
      "MSE: 0.0044, MAE: 0.0373, R²: 0.8386\n",
      "\n",
      "📊 Sector: Utilities → Test Set:\n",
      "MSE: 0.0122, MAE: 0.0763, R²: 0.0503\n",
      "\n",
      "🌍 Training Random Forest for Sector: Materials\n",
      "\n",
      "📊 Sector: Materials → Training Set:\n",
      "MSE: 0.0063, MAE: 0.0589, R²: 0.8513\n",
      "\n",
      "📊 Sector: Materials → Test Set:\n",
      "MSE: 0.0370, MAE: 0.1484, R²: -0.0019\n",
      "\n",
      "🌍 Training Random Forest for Sector: Real Estate\n",
      "\n",
      "📊 Sector: Real Estate → Training Set:\n",
      "MSE: 0.0029, MAE: 0.0402, R²: 0.8999\n",
      "\n",
      "📊 Sector: Real Estate → Test Set:\n",
      "MSE: 0.0275, MAE: 0.1098, R²: 0.1890\n",
      "\n",
      "🌍 Training Random Forest for Sector: Consumer Discretionary\n",
      "\n",
      "📊 Sector: Consumer Discretionary → Training Set:\n",
      "MSE: 0.0059, MAE: 0.0551, R²: 0.9004\n",
      "\n",
      "📊 Sector: Consumer Discretionary → Test Set:\n",
      "MSE: 0.0532, MAE: 0.1639, R²: 0.1854\n",
      "\n",
      "🌍 Training Random Forest for Sector: Energy\n",
      "\n",
      "📊 Sector: Energy → Training Set:\n",
      "MSE: 0.0111, MAE: 0.0681, R²: 0.8679\n",
      "\n",
      "📊 Sector: Energy → Test Set:\n",
      "MSE: 0.0659, MAE: 0.1726, R²: 0.1835\n",
      "\n",
      "🌍 Training Random Forest for Sector: Communication Services\n",
      "\n",
      "📊 Sector: Communication Services → Training Set:\n",
      "MSE: 0.0061, MAE: 0.0554, R²: 0.8622\n",
      "\n",
      "📊 Sector: Communication Services → Test Set:\n",
      "MSE: 0.0437, MAE: 0.1340, R²: 0.2195\n",
      "\n",
      "✅ 📂 Sector-Specific Random Forest Models Trained & Stored Successfully!\n"
     ]
    }
   ],
   "execution_count": 26
  },
  {
   "metadata": {
    "ExecuteTime": {
     "end_time": "2025-03-08T12:43:39.671305Z",
     "start_time": "2025-03-08T12:43:39.660444Z"
    }
   },
   "cell_type": "code",
   "source": [
    "import pandas as pd\n",
    "\n",
    "# 🛠️ **Ensure Sector-Based Results Exist**\n",
    "if \"rf_results_df\" not in globals():\n",
    "    raise ValueError(\"🚨 `rf_results_df` is missing. Make sure the sector-based results are stored correctly.\")\n",
    "\n",
    "# 🛠️ **Create General Model Results DataFrame**\n",
    "general_rf_results = {\n",
    "    \"Sector\": [\"General Model\"],\n",
    "    \"MSE_Train\": [mse_rf_train],\n",
    "    \"MAE_Train\": [mae_rf_train],\n",
    "    \"R²_Train\": [r2_rf_train],\n",
    "    \"MSE_Test\": [mse_rf_test],\n",
    "    \"MAE_Test\": [mae_rf_test],\n",
    "    \"R²_Test\": [r2_rf_test]\n",
    "}\n",
    "\n",
    "general_rf_df = pd.DataFrame(general_rf_results)\n",
    "\n",
    "# 🛠️ **Ensure Column Names Match Before Merging**\n",
    "rf_results_df.rename(columns={\"MSE_Train\": \"MSE_Train\", \"MAE_Train\": \"MAE_Train\", \"R²_Train\": \"R²_Train\",\n",
    "                              \"MSE_Test\": \"MSE_Test\", \"MAE_Test\": \"MAE_Test\", \"R²_Test\": \"R²_Test\"}, inplace=True)\n",
    "general_rf_df.rename(columns={\"MSE_Train\": \"MSE_Train\", \"MAE_Train\": \"MAE_Train\", \"R²_Train\": \"R²_Train\",\n",
    "                              \"MSE_Test\": \"MSE_Test\", \"MAE_Test\": \"MAE_Test\", \"R²_Test\": \"R²_Test\"}, inplace=True)\n",
    "\n",
    "# 🛠️ **Merge General & Sector-Specific Results**\n",
    "full_rf_results_df = pd.concat([general_rf_df, rf_results_df], ignore_index=True)\n",
    "\n",
    "# 🛠️ **Save All Results**\n",
    "full_rf_results_df.to_csv(\"random_forest_all_results_initial.csv\", index=False)\n",
    "\n",
    "print(\"\\n✅ 📂 Initial Random Forest results (with in-sample and out-of-sample metrics) saved successfully!\")\n",
    "\n",
    "# 🛠️ **Load and Check Merged Results**\n",
    "df_check = pd.read_csv(\"random_forest_all_results_initial.csv\")\n",
    "print(\"\\n📊 Merged Results Preview:\")\n",
    "print(df_check.head())\n"
   ],
   "id": "89a41bf47a2e90a1",
   "outputs": [
    {
     "name": "stdout",
     "output_type": "stream",
     "text": [
      "\n",
      "✅ 📂 Initial Random Forest results (with in-sample and out-of-sample metrics) saved successfully!\n",
      "\n",
      "📊 Merged Results Preview:\n",
      "                   Sector  MSE_Train  MAE_Train  R²_Train  MSE_Test  MAE_Test  \\\n",
      "0           General Model   0.005176   0.042584  0.896052  0.028256  0.112904   \n",
      "1             Health Care   0.004335   0.047012  0.860980  0.026873  0.128071   \n",
      "2  Information Technology   0.005640   0.051891  0.896744  0.040978  0.141100   \n",
      "3              Financials   0.002629   0.035142  0.928080  0.022137  0.100258   \n",
      "4        Consumer Staples   0.003013   0.039352  0.854687  0.013550  0.088757   \n",
      "\n",
      "    R²_Test  \n",
      "0  0.321601  \n",
      "1  0.167992  \n",
      "2  0.185823  \n",
      "3  0.479578  \n",
      "4 -0.108669  \n"
     ]
    }
   ],
   "execution_count": 28
  },
  {
   "metadata": {
    "ExecuteTime": {
     "end_time": "2025-03-08T12:13:37.770492Z",
     "start_time": "2025-03-08T12:13:37.559109Z"
    }
   },
   "cell_type": "code",
   "source": [
    "# Compute feature importance for the general model\n",
    "general_feature_importance = pd.Series(rf_model.feature_importances_, index=X.columns)\n",
    "general_feature_importance = general_feature_importance.sort_values(ascending=False)\n",
    "\n",
    "# Plot general model feature importance\n",
    "plt.figure(figsize=(12, 6))\n",
    "sns.barplot(x=general_feature_importance.values[:15], y=general_feature_importance.index[:15])\n",
    "plt.xlabel(\"Feature Importance\")\n",
    "plt.ylabel(\"Features\")\n",
    "plt.title(\"Top 15 Feature Importances - General Model\")\n",
    "\n",
    "# Save the figure\n",
    "plt.savefig(f\"general_model_feature_importance.png\", bbox_inches=\"tight\")\n",
    "plt.close()\n",
    "\n",
    "print(\"\\n✅ 📂 General Model Feature Importance Graph Saved Successfully!\")"
   ],
   "id": "2f79bd6e6a4e59fd",
   "outputs": [
    {
     "name": "stdout",
     "output_type": "stream",
     "text": [
      "\n",
      "✅ 📂 General Model Feature Importance Graph Saved Successfully!\n"
     ]
    }
   ],
   "execution_count": 17
  },
  {
   "metadata": {
    "ExecuteTime": {
     "end_time": "2025-03-08T12:14:27.253327Z",
     "start_time": "2025-03-08T12:14:27.243333Z"
    }
   },
   "cell_type": "code",
   "source": [
    "import pandas as pd\n",
    "\n",
    "# Compute feature importance for the general model\n",
    "general_feature_importance = pd.Series(rf_model.feature_importances_, index=X.columns)\n",
    "general_feature_importance = general_feature_importance.sort_values(ascending=False)\n",
    "\n",
    "# Convert to DataFrame\n",
    "general_feature_importance_df = general_feature_importance.reset_index()\n",
    "general_feature_importance_df.columns = [\"Feature\", \"Importance\"]\n",
    "\n",
    "# Save to CSV\n",
    "general_feature_importance_df.to_csv(\"general_feature_importance.csv\", index=False)\n",
    "\n",
    "print(\"\\n✅ 📂 General Model Feature Importance CSV Saved Successfully!\")"
   ],
   "id": "32cc135e9a120f9d",
   "outputs": [
    {
     "name": "stdout",
     "output_type": "stream",
     "text": [
      "\n",
      "✅ 📂 General Model Feature Importance CSV Saved Successfully!\n"
     ]
    }
   ],
   "execution_count": 19
  },
  {
   "metadata": {
    "ExecuteTime": {
     "end_time": "2025-03-08T12:10:55.271698Z",
     "start_time": "2025-03-08T12:10:53.424237Z"
    }
   },
   "cell_type": "code",
   "source": [
    "import os\n",
    "\n",
    "# Define folder path\n",
    "save_path = \"sector_feature_importance\"\n",
    "\n",
    "# Create the folder if it doesn't exist\n",
    "os.makedirs(save_path, exist_ok=True)\n",
    "\n",
    "sector_feature_importance = {}\n",
    "\n",
    "# Loop through each sector and compute feature importance\n",
    "for sector, model_data in sector_models.items():\n",
    "    print(f\"\\n📊 Computing Feature Importance for Sector: {sector}\")\n",
    "\n",
    "    # Get trained sector model and feature set\n",
    "    rf_sector = model_data[\"rf_model\"]\n",
    "    X_sector = model_data[\"X_train\"]\n",
    "\n",
    "    # Compute feature importance\n",
    "    feature_importance_sector = pd.Series(rf_sector.feature_importances_, index=X_sector.columns)\n",
    "    feature_importance_sector = feature_importance_sector.sort_values(ascending=False)\n",
    "\n",
    "    # Save for later analysis\n",
    "    sector_feature_importance[sector] = feature_importance_sector\n",
    "\n",
    "    # Plot sector feature importance\n",
    "    plt.figure(figsize=(12, 6))\n",
    "    sns.barplot(x=feature_importance_sector.values[:15], y=feature_importance_sector.index[:15])\n",
    "    plt.xlabel(\"Feature Importance\")\n",
    "    plt.ylabel(\"Features\")\n",
    "    plt.title(f\"Top 15 Feature Importances - {sector}\")\n",
    "\n",
    "    # Save the figure\n",
    "    plt.savefig(f\"{save_path}/{sector}_feature_importance.png\", bbox_inches=\"tight\")\n",
    "    plt.close()  # Close plot to prevent display overflow\n",
    "\n",
    "print(\"\\n✅ 📂 Feature Importance Graphs for Each Sector Saved Successfully!\")\n"
   ],
   "id": "38fbe6882a47e7b",
   "outputs": [
    {
     "name": "stdout",
     "output_type": "stream",
     "text": [
      "\n",
      "📊 Computing Feature Importance for Sector: Health Care\n",
      "\n",
      "📊 Computing Feature Importance for Sector: Information Technology\n",
      "\n",
      "📊 Computing Feature Importance for Sector: Financials\n",
      "\n",
      "📊 Computing Feature Importance for Sector: Consumer Staples\n",
      "\n",
      "📊 Computing Feature Importance for Sector: Industrials\n",
      "\n",
      "📊 Computing Feature Importance for Sector: Utilities\n",
      "\n",
      "📊 Computing Feature Importance for Sector: Materials\n",
      "\n",
      "📊 Computing Feature Importance for Sector: Real Estate\n",
      "\n",
      "📊 Computing Feature Importance for Sector: Consumer Discretionary\n",
      "\n",
      "📊 Computing Feature Importance for Sector: Energy\n",
      "\n",
      "📊 Computing Feature Importance for Sector: Communication Services\n",
      "\n",
      "✅ 📂 Feature Importance Graphs for Each Sector Saved Successfully!\n"
     ]
    }
   ],
   "execution_count": 14
  }
 ],
 "metadata": {
  "kernelspec": {
   "display_name": "Python 3",
   "language": "python",
   "name": "python3"
  },
  "language_info": {
   "codemirror_mode": {
    "name": "ipython",
    "version": 2
   },
   "file_extension": ".py",
   "mimetype": "text/x-python",
   "name": "python",
   "nbconvert_exporter": "python",
   "pygments_lexer": "ipython2",
   "version": "2.7.6"
  }
 },
 "nbformat": 4,
 "nbformat_minor": 5
}
